{
 "cells": [
  {
   "cell_type": "markdown",
   "metadata": {},
   "source": [
    "# Searching using NUMPY "
   ]
  },
  {
   "cell_type": "code",
   "execution_count": 1,
   "metadata": {},
   "outputs": [
    {
     "name": "stdout",
     "output_type": "stream",
     "text": [
      "[0 4]\n",
      "[ 2  2  3  3  4  5  5  6  6  7  7  7  8  8  8 22 43 53]\n",
      "15\n",
      "12\n"
     ]
    }
   ],
   "source": [
    "import numpy as np\n",
    "arr=np.array([2,4,3,6,2,5,7,8,8,43,22,5,7,8,53,3,6,7])\n",
    "\n",
    "# linearSeach\n",
    "index=np.where(arr==2)\n",
    "\n",
    "print(index[0])\n",
    "\n",
    "#Binary Search\n",
    "\n",
    "arr=np.sort(arr)\n",
    "print(arr)\n",
    "index=np.searchsorted(arr,8,side='right')\n",
    "print(index)\n",
    "\n",
    "print(np.argmin(abs(arr-11)))"
   ]
  },
  {
   "cell_type": "markdown",
   "metadata": {},
   "source": [
    "# Sorting"
   ]
  },
  {
   "cell_type": "code",
   "execution_count": 27,
   "metadata": {},
   "outputs": [
    {
     "name": "stdout",
     "output_type": "stream",
     "text": [
      "[ 2  2  3  3  4  5  5  6  6  7  7  7  8  8  8 22 43 53]\n",
      "[ 2  2  3  3  4  5  5  6  6  7  7  7  8  8  8 22 43 53]\n",
      "[ 2  2  3  3  4  5  5  6  6  7  7  7  8  8  8 22 43 53]\n"
     ]
    }
   ],
   "source": [
    "arr=np.array([2,4,3,6,2,5,7,8,8,43,22,5,7,8,53,3,6,7])\n",
    "print(np.sort(arr,kind=\"heapsort\"))\n",
    "print(np.sort(arr,kind=\"quicksort\"))\n",
    "print(np.sort(arr,kind='mergesort'))"
   ]
  }
 ],
 "metadata": {
  "kernelspec": {
   "display_name": "MLenv",
   "language": "python",
   "name": "python3"
  },
  "language_info": {
   "codemirror_mode": {
    "name": "ipython",
    "version": 3
   },
   "file_extension": ".py",
   "mimetype": "text/x-python",
   "name": "python",
   "nbconvert_exporter": "python",
   "pygments_lexer": "ipython3",
   "version": "3.12.5"
  }
 },
 "nbformat": 4,
 "nbformat_minor": 2
}
