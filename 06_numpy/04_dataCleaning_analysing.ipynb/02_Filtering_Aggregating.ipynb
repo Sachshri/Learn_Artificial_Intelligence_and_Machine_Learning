{
 "cells": [
  {
   "cell_type": "code",
   "execution_count": 2,
   "metadata": {},
   "outputs": [],
   "source": [
    "import numpy as np\n",
    "arr=np.random.randint(1,30,size=(5,5))"
   ]
  },
  {
   "cell_type": "markdown",
   "metadata": {},
   "source": [
    "# Filtering "
   ]
  },
  {
   "cell_type": "markdown",
   "metadata": {},
   "source": [
    "1. filter all the elements which are divisible by 5"
   ]
  },
  {
   "cell_type": "code",
   "execution_count": 4,
   "metadata": {},
   "outputs": [
    {
     "name": "stdout",
     "output_type": "stream",
     "text": [
      "[[ 4 10  5 25 11]\n",
      " [18 15 17 22  1]\n",
      " [25 12 10  7 28]\n",
      " [28 20 23 20 27]\n",
      " [14 19 22 19  7]]\n",
      "[[False  True  True  True False]\n",
      " [False  True False False False]\n",
      " [ True False  True False False]\n",
      " [False  True False  True False]\n",
      " [False False False False False]]\n",
      "[10  5 25 15 25 10 20 20]\n"
     ]
    }
   ],
   "source": [
    "print(arr)\n",
    "print(arr%5==0)\n",
    "print(arr[arr%5==0])"
   ]
  },
  {
   "cell_type": "markdown",
   "metadata": {},
   "source": [
    "2. filter all the elements which are even"
   ]
  },
  {
   "cell_type": "code",
   "execution_count": 6,
   "metadata": {},
   "outputs": [
    {
     "name": "stdout",
     "output_type": "stream",
     "text": [
      "[[ 4 10  5 25 11]\n",
      " [18 15 17 22  1]\n",
      " [25 12 10  7 28]\n",
      " [28 20 23 20 27]\n",
      " [14 19 22 19  7]]\n",
      "[[ True  True False False False]\n",
      " [ True False False  True False]\n",
      " [False  True  True False  True]\n",
      " [ True  True False  True False]\n",
      " [ True False  True False False]]\n",
      "[ 4 10 18 22 12 10 28 28 20 20 14 22]\n"
     ]
    }
   ],
   "source": [
    "print(arr)\n",
    "print(arr%2==0)\n",
    "print(arr[arr%2==0])"
   ]
  },
  {
   "cell_type": "markdown",
   "metadata": {},
   "source": [
    "3. filter all the elements which are even and divisble by 5"
   ]
  },
  {
   "cell_type": "code",
   "execution_count": 11,
   "metadata": {},
   "outputs": [
    {
     "name": "stdout",
     "output_type": "stream",
     "text": [
      "[[ 4 10  5 25 11]\n",
      " [18 15 17 22  1]\n",
      " [25 12 10  7 28]\n",
      " [28 20 23 20 27]\n",
      " [14 19 22 19  7]]\n",
      "[10 10 20 20]\n"
     ]
    }
   ],
   "source": [
    "print(arr)\n",
    "# print((arr%2==0 and arr%5==0))\n",
    "print(arr[(arr%2==0)& (arr%5==0)])"
   ]
  },
  {
   "cell_type": "markdown",
   "metadata": {},
   "source": [
    "4. filter all the elements which are divible by either 3 or 7"
   ]
  },
  {
   "cell_type": "code",
   "execution_count": 12,
   "metadata": {},
   "outputs": [
    {
     "name": "stdout",
     "output_type": "stream",
     "text": [
      "[18 15 12  7 28 28 27 14  7]\n"
     ]
    }
   ],
   "source": [
    "print(arr[(arr%3==0)| (arr%7==0)])"
   ]
  },
  {
   "cell_type": "markdown",
   "metadata": {},
   "source": [
    "5. Filter array based on condition of another array"
   ]
  },
  {
   "cell_type": "code",
   "execution_count": 21,
   "metadata": {},
   "outputs": [
    {
     "name": "stdout",
     "output_type": "stream",
     "text": [
      "[[ 4 10  5 25 11]\n",
      " [25 12 10  7 28]]\n",
      "[28 23]\n"
     ]
    }
   ],
   "source": [
    "cond=np.array([True,False,True,False,False])\n",
    "\n",
    "print(arr[cond])\n",
    "print(arr[3][cond])"
   ]
  },
  {
   "cell_type": "markdown",
   "metadata": {},
   "source": [
    "6. Filter array based on any row of array"
   ]
  },
  {
   "cell_type": "code",
   "execution_count": null,
   "metadata": {},
   "outputs": [],
   "source": [
    "print(arr[2,:]>15)\n",
    "print(arr[arr[2,:]>15])\n",
    "print(arr[3][arr[2,:]>15])"
   ]
  },
  {
   "cell_type": "markdown",
   "metadata": {},
   "source": [
    "# Aggregating "
   ]
  },
  {
   "cell_type": "markdown",
   "metadata": {},
   "source": [
    "1. sum"
   ]
  },
  {
   "cell_type": "code",
   "execution_count": 23,
   "metadata": {},
   "outputs": [
    {
     "name": "stdout",
     "output_type": "stream",
     "text": [
      "28\n",
      "21\n",
      "[5 7 9]\n",
      "[ 6 15]\n"
     ]
    }
   ],
   "source": [
    "arr1=np.array([1,2,3,4,5,6,7])\n",
    "print(np.sum(arr1))\n",
    "\n",
    "arr2=np.array([[1,2,3],[4,5,6]])\n",
    "print(np.sum(arr2))\n",
    "\n",
    "print(np.sum(arr2,axis=0))\n",
    "print(np.sum(arr2,axis=1))"
   ]
  },
  {
   "cell_type": "markdown",
   "metadata": {},
   "source": [
    "2. mean"
   ]
  },
  {
   "cell_type": "code",
   "execution_count": 25,
   "metadata": {},
   "outputs": [
    {
     "name": "stdout",
     "output_type": "stream",
     "text": [
      "4.0\n",
      "3.5\n",
      "[2.5 3.5 4.5]\n",
      "[2. 5.]\n"
     ]
    }
   ],
   "source": [
    "arr1=np.array([1,2,3,4,5,6,7])\n",
    "print(np.mean(arr1))\n",
    "\n",
    "arr2=np.array([[1,2,3],[4,5,6]])\n",
    "print(np.mean(arr2))\n",
    "\n",
    "print(np.mean(arr2,axis=0))\n",
    "print(np.mean(arr2,axis=1))"
   ]
  },
  {
   "cell_type": "markdown",
   "metadata": {},
   "source": [
    "3. standard deviation"
   ]
  },
  {
   "cell_type": "code",
   "execution_count": 26,
   "metadata": {},
   "outputs": [
    {
     "name": "stdout",
     "output_type": "stream",
     "text": [
      "2.0\n",
      "1.707825127659933\n",
      "[1.5 1.5 1.5]\n",
      "[0.81649658 0.81649658]\n"
     ]
    }
   ],
   "source": [
    "arr1=np.array([1,2,3,4,5,6,7])\n",
    "print(np.std(arr1))\n",
    "\n",
    "arr2=np.array([[1,2,3],[4,5,6]])\n",
    "print(np.std(arr2))\n",
    "\n",
    "print(np.std(arr2,axis=0))\n",
    "print(np.std(arr2,axis=1))"
   ]
  },
  {
   "cell_type": "markdown",
   "metadata": {},
   "source": [
    "4. min max"
   ]
  },
  {
   "cell_type": "code",
   "execution_count": 24,
   "metadata": {},
   "outputs": [
    {
     "name": "stdout",
     "output_type": "stream",
     "text": [
      "1\n",
      "1\n",
      "[1 2 3]\n",
      "[1 4]\n",
      "7\n",
      "6\n",
      "[1 2 3]\n",
      "[3 6]\n"
     ]
    }
   ],
   "source": [
    "arr1=np.array([1,2,3,4,5,6,7])\n",
    "print(np.min(arr1))\n",
    "\n",
    "arr2=np.array([[1,2,3],[4,5,6]])\n",
    "print(np.min(arr2))\n",
    "\n",
    "print(np.min(arr2,axis=0))\n",
    "print(np.min(arr2,axis=1))\n",
    "\n",
    "print(\"Max function\")\n",
    "arr1=np.array([1,2,3,4,5,6,7])\n",
    "print(np.max(arr1))\n",
    "\n",
    "arr2=np.array([[1,2,3],[4,5,6]])\n",
    "print(np.max(arr2))\n",
    "\n",
    "print(np.min(arr2,axis=0))\n",
    "print(np.max(arr2,axis=1))"
   ]
  }
 ],
 "metadata": {
  "kernelspec": {
   "display_name": "MLenv",
   "language": "python",
   "name": "python3"
  },
  "language_info": {
   "codemirror_mode": {
    "name": "ipython",
    "version": 3
   },
   "file_extension": ".py",
   "mimetype": "text/x-python",
   "name": "python",
   "nbconvert_exporter": "python",
   "pygments_lexer": "ipython3",
   "version": "3.12.4"
  }
 },
 "nbformat": 4,
 "nbformat_minor": 2
}
