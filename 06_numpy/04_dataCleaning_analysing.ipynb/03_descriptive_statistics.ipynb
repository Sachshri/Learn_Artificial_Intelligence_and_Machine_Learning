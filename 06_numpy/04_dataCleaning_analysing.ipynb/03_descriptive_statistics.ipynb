{
 "cells": [
  {
   "cell_type": "markdown",
   "metadata": {},
   "source": [
    "# Descriptive Statics with NUMPY"
   ]
  },
  {
   "cell_type": "code",
   "execution_count": 10,
   "metadata": {},
   "outputs": [
    {
     "name": "stdout",
     "output_type": "stream",
     "text": [
      "[43 46 41 55 13 70  6 50 19 37 13 97 83 27  7 60 34 71 16 93 80 73 41 62\n",
      " 63 74 60 69 77  5 61 59 32 70 40 78 34 78  7 21 46 64 53 95 11 56 99 10\n",
      " 17 67 97 58 56 60 92 73 38  6  4 67  8 51 68 59 99  6 31 40 50 15 39  6\n",
      " 40 99 55 75 27 13 16 43 16 76 57  6 48 14 42 55 41  9 12 48 26 44 72 59\n",
      " 32 42 82 65]\n",
      "Mean:  47.2\n",
      "Median:  48.0\n",
      "Mode:  6\n",
      "Varience:  723.2599999999999\n",
      "Standard Deviation:  26.89349363693754\n",
      "quartile1 :  24.75\n",
      "quartile2 :  48.0\n",
      "quartile3 :  67.25\n",
      "Interquartile Range:  42.5\n",
      "skewness:  0.05186142674194852\n",
      "kurtosis:  2.0547945335786726\n"
     ]
    }
   ],
   "source": [
    "import numpy as np\n",
    "import statistics as st\n",
    "np.random.seed(49)\n",
    "data=np.random.randint(1,100,size=(100))\n",
    "print(data)\n",
    "Mean=np.mean(data)\n",
    "Median=np.median(data)\n",
    "Mode=st.mode(data)\n",
    "varience=np.var(data)\n",
    "std_dev=np.std(data)\n",
    "\n",
    "q1=np.percentile(data,25)\n",
    "q2=np.percentile(data,50)\n",
    "q3=np.percentile(data,75)\n",
    "\n",
    "iqr=q3-q1\n",
    "\n",
    "skewness=np.mean((data-Mean)**3)/std_dev**3\n",
    "kurtosis=np.mean((data-Mean)**4)/std_dev**4\n",
    "\n",
    "print(\"Mean: \",Mean)\n",
    "print(\"Median: \",Median)\n",
    "print(\"Mode: \",Mode)\n",
    "print(\"Varience: \",varience)\n",
    "print(\"Standard Deviation: \",std_dev)\n",
    "print(\"quartile1 : \",q1)\n",
    "print(\"quartile2 : \",q2)\n",
    "print(\"quartile3 : \",q3)\n",
    "print(\"Interquartile Range: \",iqr)\n",
    "print(\"skewness: \",skewness)\n",
    "print(\"kurtosis: \",kurtosis)"
   ]
  }
 ],
 "metadata": {
  "kernelspec": {
   "display_name": "MLenv",
   "language": "python",
   "name": "python3"
  },
  "language_info": {
   "codemirror_mode": {
    "name": "ipython",
    "version": 3
   },
   "file_extension": ".py",
   "mimetype": "text/x-python",
   "name": "python",
   "nbconvert_exporter": "python",
   "pygments_lexer": "ipython3",
   "version": "3.12.4"
  }
 },
 "nbformat": 4,
 "nbformat_minor": 2
}
