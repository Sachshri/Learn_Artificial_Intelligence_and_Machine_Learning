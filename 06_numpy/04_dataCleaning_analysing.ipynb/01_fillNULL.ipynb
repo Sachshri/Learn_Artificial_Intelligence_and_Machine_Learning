{
 "cells": [
  {
   "cell_type": "markdown",
   "metadata": {},
   "source": [
    "# Dealing with the NULL values"
   ]
  },
  {
   "cell_type": "code",
   "execution_count": 1,
   "metadata": {},
   "outputs": [],
   "source": [
    "import numpy as np"
   ]
  },
  {
   "cell_type": "markdown",
   "metadata": {},
   "source": [
    "1. Finding the NULL values"
   ]
  },
  {
   "cell_type": "code",
   "execution_count": 4,
   "metadata": {},
   "outputs": [
    {
     "name": "stdout",
     "output_type": "stream",
     "text": [
      "[1 2 3 None 5 None None 8]\n",
      "[False False False  True False  True  True False]\n"
     ]
    }
   ],
   "source": [
    "array=np.array([1,2,3,None,5,None,None,8])\n",
    "print(array)\n",
    "print(array==None)"
   ]
  },
  {
   "cell_type": "markdown",
   "metadata": {},
   "source": [
    "2. None to np.nan"
   ]
  },
  {
   "cell_type": "code",
   "execution_count": 5,
   "metadata": {},
   "outputs": [
    {
     "name": "stdout",
     "output_type": "stream",
     "text": [
      "[1 2 3 nan 5 nan nan 8]\n"
     ]
    }
   ],
   "source": [
    "array[array==None]=np.nan\n",
    "print(array)"
   ]
  },
  {
   "cell_type": "markdown",
   "metadata": {},
   "source": [
    "3. Checking the nan values"
   ]
  },
  {
   "cell_type": "code",
   "execution_count": 9,
   "metadata": {},
   "outputs": [
    {
     "name": "stdout",
     "output_type": "stream",
     "text": [
      "[False False False  True False  True  True False]\n"
     ]
    }
   ],
   "source": [
    "array=np.array([1,2,3,np.nan,5,np.nan,np.nan,8])\n",
    "print(np.isnan(array))"
   ]
  },
  {
   "cell_type": "markdown",
   "metadata": {},
   "source": [
    "4. Removing the NULL values"
   ]
  },
  {
   "cell_type": "code",
   "execution_count": 13,
   "metadata": {},
   "outputs": [
    {
     "name": "stdout",
     "output_type": "stream",
     "text": [
      "[False False False  True False  True  True False]\n",
      "[ True  True  True False  True False False  True]\n",
      "[1. 2. 3. 5. 8.]\n"
     ]
    }
   ],
   "source": [
    "print(np.isnan(array))\n",
    "print(~np.isnan(array))\n",
    "\n",
    "array=array[~np.isnan(array)]\n",
    "print(array)\n"
   ]
  },
  {
   "cell_type": "markdown",
   "metadata": {},
   "source": [
    "5. Filling NULL values with zero"
   ]
  },
  {
   "cell_type": "code",
   "execution_count": 14,
   "metadata": {},
   "outputs": [
    {
     "name": "stdout",
     "output_type": "stream",
     "text": [
      "[ 1.  2.  3. nan  5. nan nan  8.]\n",
      "[1. 2. 3. 0. 5. 0. 0. 8.]\n"
     ]
    }
   ],
   "source": [
    "array=np.array([1,2,3,np.nan,5,np.nan,np.nan,8])\n",
    "print(array)\n",
    "\n",
    "array[np.isnan(array)]=0\n",
    "print(array)"
   ]
  },
  {
   "cell_type": "markdown",
   "metadata": {},
   "source": [
    "6. Filling the NULL value with mean or average"
   ]
  },
  {
   "cell_type": "code",
   "execution_count": 15,
   "metadata": {},
   "outputs": [
    {
     "name": "stdout",
     "output_type": "stream",
     "text": [
      "[ 1.  2.  3. nan  5. nan nan  8.]\n",
      "[1.  2.  3.  3.8 5.  3.8 3.8 8. ]\n"
     ]
    }
   ],
   "source": [
    "array=np.array([1,2,3,np.nan,5,np.nan,np.nan,8])\n",
    "print(array)\n",
    "\n",
    "array[np.isnan(array)]=np.nanmean(array)\n",
    "print(array)"
   ]
  }
 ],
 "metadata": {
  "kernelspec": {
   "display_name": "MLenv",
   "language": "python",
   "name": "python3"
  },
  "language_info": {
   "codemirror_mode": {
    "name": "ipython",
    "version": 3
   },
   "file_extension": ".py",
   "mimetype": "text/x-python",
   "name": "python",
   "nbconvert_exporter": "python",
   "pygments_lexer": "ipython3",
   "version": "3.12.4"
  }
 },
 "nbformat": 4,
 "nbformat_minor": 2
}
