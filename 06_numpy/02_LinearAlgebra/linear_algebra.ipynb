{
 "cells": [
  {
   "cell_type": "markdown",
   "metadata": {},
   "source": [
    "# Linear Algebra with NUMPY"
   ]
  },
  {
   "cell_type": "code",
   "execution_count": null,
   "metadata": {},
   "outputs": [],
   "source": [
    "import numpy as np"
   ]
  },
  {
   "cell_type": "code",
   "execution_count": null,
   "metadata": {},
   "outputs": [],
   "source": [
    "#DOT PRODUCT \n",
    "np.random.seed(10)\n",
    "a=np.random.randint(1,11,size=(4))                   \n",
    "b=np.random.randint(1,11,size=(4))\n",
    "print(a,b)\n",
    "\n",
    "dot_product=np.dot(a,b)\n",
    "print(dot_product)\n"
   ]
  },
  {
   "cell_type": "code",
   "execution_count": null,
   "metadata": {},
   "outputs": [],
   "source": [
    "#MATRIX MULTIPLICATION\n",
    "\n",
    "a=np.random.randint(1,11,size=(4,4))                   \n",
    "b=np.random.randint(1,11,size=(4,6))\n",
    "print(a,b)\n",
    "mat_mul=np.matmul(a,b)\n",
    "mat_mul1=np.dot(a,b)\n",
    "\n",
    "print(mat_mul==mat_mul1)\n",
    "print(mat_mul)\n",
    "\n",
    "# print(mat_mul1)"
   ]
  },
  {
   "cell_type": "markdown",
   "metadata": {},
   "source": [
    "### Finding the Detereminant, Transpose and Inverse \n"
   ]
  },
  {
   "cell_type": "code",
   "execution_count": null,
   "metadata": {},
   "outputs": [],
   "source": [
    "import numpy as np\n",
    "np.random.seed(4)\n",
    "A=np.random.randint(1,11,size=(4,4))\n",
    "determinant=np.linalg.det(A)\n",
    "print(determinant)\n",
    "print(\"-\"*20)\n",
    "Transpose=np.transpose(A)\n",
    "print(Transpose)\n",
    "print(\"-\"*20)\n",
    "\n",
    "Inverse=np.linalg.inv(A)\n",
    "print(Inverse)"
   ]
  },
  {
   "cell_type": "markdown",
   "metadata": {},
   "source": [
    "## SYSTEM OF LINEAR EQUATION"
   ]
  },
  {
   "cell_type": "code",
   "execution_count": 1,
   "metadata": {},
   "outputs": [
    {
     "name": "stdout",
     "output_type": "stream",
     "text": [
      "DET A -9.51619735392994e-16\n",
      "[[  2.26666667]\n",
      " [-13.53333333]\n",
      " [ 11.6       ]]\n",
      "[[0.00000000e+00]\n",
      " [0.00000000e+00]\n",
      " [1.42108547e-14]]\n"
     ]
    }
   ],
   "source": [
    "import numpy as np\n",
    "A=np.array([[1,2,3],[4,5,6],[7,8,9]])\n",
    "B=np.array([[10],[11],[12]])\n",
    "print(\"DET A\",np.linalg.det(A))\n",
    "sol=np.linalg.solve(A,B)\n",
    "print(sol)\n",
    "\n",
    "cofactors = np.zeros(A.shape)\n",
    "    \n",
    "    # Iterate through each element in the matrix\n",
    "for i in range(A.shape[0]):\n",
    "        for j in range(A.shape[1]):\n",
    "            # Create the submatrix by removing the i-th row and j-th column\n",
    "            submatrix = np.delete(np.delete(A, i, axis=0), j, axis=1)\n",
    "            \n",
    "            # Calculate the minor (determinant of the submatrix)\n",
    "            minor = np.linalg.det(submatrix)\n",
    "            \n",
    "            # Apply the sign based on position and assign to the cofactor matrix\n",
    "            cofactors[i, j] = ((-1) ** (i + j)) * minor\n",
    "    \n",
    "print(np.matmul(cofactors,B))"
   ]
  },
  {
   "cell_type": "code",
   "execution_count": null,
   "metadata": {},
   "outputs": [],
   "source": [
    "A=np.array([[3,11],[6,22]])\n",
    "B=np.array([[7],[5]])\n",
    "print(\"DET A\",np.linalg.det(A))\n",
    "sol=np.linalg.solve(A,B)\n",
    "print(sol)\n",
    "\n",
    "cofactors = np.zeros(A.shape)\n",
    "    \n",
    "    # Iterate through each element in the matrix\n",
    "for i in range(A.shape[0]):\n",
    "        for j in range(A.shape[1]):\n",
    "            # Create the submatrix by removing the i-th row and j-th column\n",
    "            submatrix = np.delete(np.delete(A, i, axis=0), j, axis=1)\n",
    "            \n",
    "            # Calculate the minor (determinant of the submatrix)\n",
    "            minor = np.linalg.det(submatrix)\n",
    "            \n",
    "            # Apply the sign based on position and assign to the cofactor matrix\n",
    "            cofactors[i, j] = ((-1) ** (i + j)) * minor\n",
    "    \n",
    "print(np.matmul(cofactors,B))"
   ]
  },
  {
   "cell_type": "code",
   "execution_count": null,
   "metadata": {},
   "outputs": [],
   "source": [
    "A=np.array([[3,2,7],[4,-3,2],[5,9,23]])\n",
    "print(A)\n",
    "B=np.array([[0],[0],[0]])\n",
    "print(\"DET A\",np.linalg.det(A))\n",
    "sol=np.linalg.solve(A,B)\n",
    "print(sol)\n",
    "\n",
    "cofactors = np.zeros(A.shape)\n",
    "    \n",
    "    # Iterate through each element in the matrix\n",
    "for i in range(A.shape[0]):\n",
    "        for j in range(A.shape[1]):\n",
    "            # Create the submatrix by removing the i-th row and j-th column\n",
    "            submatrix = np.delete(np.delete(A, i, axis=0), j, axis=1)\n",
    "            \n",
    "            # Calculate the minor (determinant of the submatrix)\n",
    "            minor = np.linalg.det(submatrix)\n",
    "            \n",
    "            # Apply the sign based on position and assign to the cofactor matrix\n",
    "            cofactors[i, j] = ((-1) ** (i + j)) * minor\n",
    "    \n",
    "print(np.matmul(cofactors,B))"
   ]
  },
  {
   "cell_type": "code",
   "execution_count": null,
   "metadata": {},
   "outputs": [],
   "source": [
    "A=np.array([[3,2,7],[6,4,14],[5,9,23]])\n",
    "print(A)\n",
    "B=np.array([[0],[0],[0]])\n",
    "print(\"DET A\",np.linalg.det(A))"
   ]
  },
  {
   "cell_type": "markdown",
   "metadata": {},
   "source": [
    "### EIGEN VALUES AND EIGEN VECTORS"
   ]
  },
  {
   "cell_type": "code",
   "execution_count": 2,
   "metadata": {},
   "outputs": [
    {
     "name": "stdout",
     "output_type": "stream",
     "text": [
      "[[2 3 5]\n",
      " [3 4 7]\n",
      " [8 6 4]]\n",
      "[14.20348047 -0.17475834 -4.02872213]\n",
      "[[-0.42572905 -0.47018582 -0.37125082]\n",
      " [-0.59365607  0.83192961 -0.52750832]\n",
      " [-0.68288157 -0.29464966  0.7641386 ]]\n"
     ]
    }
   ],
   "source": [
    "A=np.array([[2,3,5],[3,4,7],[8,6,4]])\n",
    "print(A)\n",
    "\n",
    "eigen_val,eigen_vec=np.linalg.eig(A)\n",
    "\n",
    "print(eigen_val)\n",
    "print(eigen_vec)"
   ]
  },
  {
   "cell_type": "code",
   "execution_count": 3,
   "metadata": {},
   "outputs": [
    {
     "name": "stdout",
     "output_type": "stream",
     "text": [
      "[[5 4]\n",
      " [1 2]]\n",
      "[6. 1.]\n",
      "[[ 3.88057    -2.82842712]\n",
      " [ 0.9701425   2.82842712]]\n"
     ]
    }
   ],
   "source": [
    "A=np.array([[5,4],[1,2]])\n",
    "print(A)\n",
    "\n",
    "eigen_val,eigen_vec=np.linalg.eig(A)\n",
    "\n",
    "print(eigen_val)\n",
    "print(4*eigen_vec)"
   ]
  }
 ],
 "metadata": {
  "kernelspec": {
   "display_name": "MLenv",
   "language": "python",
   "name": "python3"
  },
  "language_info": {
   "codemirror_mode": {
    "name": "ipython",
    "version": 3
   },
   "file_extension": ".py",
   "mimetype": "text/x-python",
   "name": "python",
   "nbconvert_exporter": "python",
   "pygments_lexer": "ipython3",
   "version": "3.12.5"
  }
 },
 "nbformat": 4,
 "nbformat_minor": 2
}
