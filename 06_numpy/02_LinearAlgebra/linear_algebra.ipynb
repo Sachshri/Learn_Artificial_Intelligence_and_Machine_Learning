{
 "cells": [
  {
   "cell_type": "markdown",
   "metadata": {},
   "source": [
    "# Linear Algebra with NUMPY"
   ]
  },
  {
   "cell_type": "code",
   "execution_count": 14,
   "metadata": {},
   "outputs": [],
   "source": [
    "import numpy as np"
   ]
  },
  {
   "cell_type": "code",
   "execution_count": null,
   "metadata": {},
   "outputs": [],
   "source": [
    "#DOT PRODUCT \n",
    "np.random.seed(10)\n",
    "a=np.random.randint(1,11,size=(4))                   \n",
    "b=np.random.randint(1,11,size=(4))\n",
    "print(a,b)\n",
    "\n",
    "dot_product=np.dot(a,b)\n",
    "print(dot_product)\n"
   ]
  },
  {
   "cell_type": "code",
   "execution_count": 16,
   "metadata": {},
   "outputs": [
    {
     "name": "stdout",
     "output_type": "stream",
     "text": [
      "[[ 6 10  1  2]\n",
      " [ 1  2 10  1]\n",
      " [10  3  2  2]\n",
      " [ 1  1  6 10]] [[ 1  5  7  7  1  3]\n",
      " [ 4  4  3  7  1  6]\n",
      " [ 2  4  7  6  6  2]\n",
      " [ 9  1  6 10  9  6]]\n",
      "[[ True  True  True  True  True  True]\n",
      " [ True  True  True  True  True  True]\n",
      " [ True  True  True  True  True  True]\n",
      " [ True  True  True  True  True  True]]\n",
      "[[ 66  76  91 138  40  92]\n",
      " [ 38  54  89  91  72  41]\n",
      " [ 44  72 105 123  43  64]\n",
      " [107  43 112 150 128  81]]\n"
     ]
    }
   ],
   "source": [
    "#MATRIX MULTIPLICATION\n",
    "\n",
    "a=np.random.randint(1,11,size=(4,4))                   \n",
    "b=np.random.randint(1,11,size=(4,6))\n",
    "print(a,b)\n",
    "mat_mul=np.matmul(a,b)\n",
    "mat_mul1=np.dot(a,b)\n",
    "\n",
    "print(mat_mul==mat_mul1)\n",
    "print(mat_mul)\n",
    "\n",
    "# print(mat_mul1)"
   ]
  }
 ],
 "metadata": {
  "kernelspec": {
   "display_name": "MLenv",
   "language": "python",
   "name": "python3"
  },
  "language_info": {
   "codemirror_mode": {
    "name": "ipython",
    "version": 3
   },
   "file_extension": ".py",
   "mimetype": "text/x-python",
   "name": "python",
   "nbconvert_exporter": "python",
   "pygments_lexer": "ipython3",
   "version": "3.12.4"
  }
 },
 "nbformat": 4,
 "nbformat_minor": 2
}
