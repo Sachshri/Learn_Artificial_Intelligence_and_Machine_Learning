{
 "cells": [
  {
   "cell_type": "markdown",
   "metadata": {},
   "source": [
    "# Converting the Data Structure to the Numpy Array"
   ]
  },
  {
   "cell_type": "markdown",
   "metadata": {},
   "source": [
    "#### 1. list ot Array"
   ]
  },
  {
   "cell_type": "code",
   "execution_count": 2,
   "metadata": {},
   "outputs": [
    {
     "name": "stdout",
     "output_type": "stream",
     "text": [
      "[0, 1, 2, 3, 4]\n",
      "[0 1 2 3 4]\n"
     ]
    }
   ],
   "source": [
    "import numpy as np #type: ignore\n",
    "\n",
    "new_list=list(range(5))\n",
    "print(new_list)\n",
    "\n",
    "arr=np.array(new_list)\n",
    "print(arr)"
   ]
  },
  {
   "cell_type": "markdown",
   "metadata": {},
   "source": [
    "#### 2. set to Array"
   ]
  },
  {
   "cell_type": "code",
   "execution_count": 3,
   "metadata": {},
   "outputs": [
    {
     "name": "stdout",
     "output_type": "stream",
     "text": [
      "{8, 5, 6, 7}\n",
      "<class 'set'>\n",
      "<class 'numpy.ndarray'>\n"
     ]
    }
   ],
   "source": [
    "s={5,6,7,8}\n",
    "print(s)\n",
    "print(type(s))\n",
    "\n",
    "print(type(np.array(s)))"
   ]
  },
  {
   "cell_type": "markdown",
   "metadata": {},
   "source": [
    "#### 3. Dictionary to Array"
   ]
  },
  {
   "cell_type": "code",
   "execution_count": 4,
   "metadata": {},
   "outputs": [
    {
     "name": "stdout",
     "output_type": "stream",
     "text": [
      "[1 4 7] [3 6 8]\n"
     ]
    }
   ],
   "source": [
    "dict={1:3,4:6,7:8}\n",
    "\n",
    "k=np.array(list(dict.keys()))\n",
    "v=np.array(list(dict.values()))\n",
    "\n",
    "print(k,v)"
   ]
  },
  {
   "cell_type": "markdown",
   "metadata": {},
   "source": [
    "#### 4. tuple to Array"
   ]
  },
  {
   "cell_type": "code",
   "execution_count": 16,
   "metadata": {},
   "outputs": [
    {
     "name": "stdout",
     "output_type": "stream",
     "text": [
      "[5 6 7 8]\n"
     ]
    }
   ],
   "source": [
    "tup=(5,6,7,8)\n",
    "print(np.array(list(tup)))"
   ]
  },
  {
   "cell_type": "markdown",
   "metadata": {},
   "source": [
    "#### convereting string to array"
   ]
  },
  {
   "cell_type": "code",
   "execution_count": 17,
   "metadata": {},
   "outputs": [
    {
     "name": "stdout",
     "output_type": "stream",
     "text": [
      "['h' 'e' 'l' 'l' 'o' ' ' 'w' 'o' 'r' 'l' 'd']\n",
      "<class 'numpy.ndarray'>\n"
     ]
    }
   ],
   "source": [
    "\n",
    "arr = np.array(list('hello world'))\n",
    "print(arr)\n",
    "print(type(arr))"
   ]
  },
  {
   "cell_type": "markdown",
   "metadata": {},
   "source": [
    "# Converting the type of data of one array to other data type"
   ]
  },
  {
   "cell_type": "markdown",
   "metadata": {},
   "source": [
    "#### int"
   ]
  },
  {
   "cell_type": "code",
   "execution_count": 18,
   "metadata": {},
   "outputs": [
    {
     "name": "stdout",
     "output_type": "stream",
     "text": [
      "[1 2 3 4 5]\n",
      "[1. 2. 3. 4. 5.]\n",
      "['1' '2' '3' '4' '5']\n",
      "[ True  True  True  True  True]\n"
     ]
    }
   ],
   "source": [
    "arr = np.array([1,2,3,4,5])\n",
    "print(arr)\n",
    "arr_ = arr.astype('float')\n",
    "print(arr_)\n",
    "\n",
    "arr_ = arr.astype('str')\n",
    "print(arr_)\n",
    "\n",
    "arr_ = arr.astype('bool')\n",
    "print(arr_)\n"
   ]
  },
  {
   "cell_type": "markdown",
   "metadata": {},
   "source": [
    "#### Float"
   ]
  },
  {
   "cell_type": "code",
   "execution_count": 19,
   "metadata": {},
   "outputs": [
    {
     "name": "stdout",
     "output_type": "stream",
     "text": [
      "[1. 2. 3. 4. 5.]\n",
      "[1 2 3 4 5]\n",
      "['1.0' '2.0' '3.0' '4.0' '5.0']\n",
      "[ True  True  True  True  True]\n"
     ]
    }
   ],
   "source": [
    "arr = np.array([1.0,2.0,3.0,4.0,5.0])\n",
    "print(arr)\n",
    "arr_ = arr.astype('int')\n",
    "print(arr_)\n",
    "\n",
    "arr_ = arr.astype('str')\n",
    "print(arr_)\n",
    "\n",
    "arr_ = arr.astype('bool')\n",
    "print(arr_)\n"
   ]
  },
  {
   "cell_type": "markdown",
   "metadata": {},
   "source": [
    "#### Boolean"
   ]
  },
  {
   "cell_type": "code",
   "execution_count": 20,
   "metadata": {},
   "outputs": [
    {
     "name": "stdout",
     "output_type": "stream",
     "text": [
      "[ True  True False False]\n",
      "[1. 1. 0. 0.]\n",
      "['True' 'True' 'False' 'False']\n",
      "[1 1 0 0]\n"
     ]
    }
   ],
   "source": [
    "import numpy as np #type: ignore\n",
    "arr = np.array([True,True,False,False])\n",
    "print(arr)\n",
    "arr_ = arr.astype('float')\n",
    "print(arr_)\n",
    "\n",
    "arr_ = arr.astype('str')\n",
    "print(arr_)\n",
    "\n",
    "arr_ = arr.astype('int')\n",
    "print(arr_)\n"
   ]
  },
  {
   "cell_type": "markdown",
   "metadata": {},
   "source": [
    "#### String"
   ]
  },
  {
   "cell_type": "code",
   "execution_count": 21,
   "metadata": {},
   "outputs": [
    {
     "name": "stdout",
     "output_type": "stream",
     "text": [
      "['1' '2' '3' '4' '5']\n",
      "[1. 2. 3. 4. 5.]\n",
      "[1 2 3 4 5]\n",
      "[ True  True  True  True  True]\n"
     ]
    }
   ],
   "source": [
    "arr = np.array([\"1\",\"2\",\"3\",\"4\",\"5\"])\n",
    "print(arr)\n",
    "arr_ = arr.astype('float')\n",
    "print(arr_)\n",
    "\n",
    "arr_ = arr.astype('int')\n",
    "print(arr_)\n",
    "\n",
    "arr_ = arr.astype('bool')\n",
    "print(arr_)\n"
   ]
  }
 ],
 "metadata": {
  "kernelspec": {
   "display_name": "MLenv",
   "language": "python",
   "name": "python3"
  },
  "language_info": {
   "codemirror_mode": {
    "name": "ipython",
    "version": 3
   },
   "file_extension": ".py",
   "mimetype": "text/x-python",
   "name": "python",
   "nbconvert_exporter": "python",
   "pygments_lexer": "ipython3",
   "version": "3.12.4"
  }
 },
 "nbformat": 4,
 "nbformat_minor": 2
}
