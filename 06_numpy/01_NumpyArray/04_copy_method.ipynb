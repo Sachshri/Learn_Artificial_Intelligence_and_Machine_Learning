{
 "cells": [
  {
   "cell_type": "markdown",
   "metadata": {},
   "source": [
    "# Working with copy() function "
   ]
  },
  {
   "cell_type": "code",
   "execution_count": null,
   "metadata": {},
   "outputs": [],
   "source": [
    "import numpy as np"
   ]
  },
  {
   "cell_type": "markdown",
   "metadata": {},
   "source": [
    "#### 1. Working With copy funcition in lists"
   ]
  },
  {
   "cell_type": "code",
   "execution_count": null,
   "metadata": {},
   "outputs": [],
   "source": [
    "list_arr=[1,2,3,4,5]\n",
    "print(list_arr)\n",
    "print('-'*20)\n",
    "list2=list_arr ## The change will reflect in both array \n",
    "## this is because:\n",
    "                   # list2 is pointing to the address location list_arr not copying\n",
    "\n",
    "list2[0]=6\n",
    "\n",
    "print(list_arr)\n",
    "print(list2)\n",
    "\n",
    "print()\n",
    "print('*'*20)\n",
    "\n",
    "list3=list_arr.copy()\n",
    "\n",
    "list3[0]=5\n",
    "\n",
    "print(list_arr)\n",
    "print(list3)  ## Change reflect only in 3 not in both"
   ]
  },
  {
   "cell_type": "markdown",
   "metadata": {},
   "source": [
    "#### working with copy function in np array"
   ]
  },
  {
   "cell_type": "code",
   "execution_count": null,
   "metadata": {},
   "outputs": [],
   "source": [
    "np_array=np.array([1,2,3,4,5])\n",
    "print(np_array)\n",
    "print('-'*20)\n",
    "arr_=np_array ## The change will reflect in both array \n",
    "## this is because:\n",
    "                   # list2 is pointing to the address location list_arr not copying\n",
    "\n",
    "arr_[0]=6\n",
    "\n",
    "print(np_array)\n",
    "print(arr_)\n",
    "\n",
    "print()\n",
    "print('*'*20)\n",
    "\n",
    "arr_1=np_array.copy()\n",
    "\n",
    "arr_1[0]=5\n",
    "\n",
    "print(np_array)\n",
    "print(arr_1)  ## Change reflect only in 3 not in both"
   ]
  }
 ],
 "metadata": {
  "kernelspec": {
   "display_name": "MLenv",
   "language": "python",
   "name": "python3"
  },
  "language_info": {
   "codemirror_mode": {
    "name": "ipython",
    "version": 3
   },
   "file_extension": ".py",
   "mimetype": "text/x-python",
   "name": "python",
   "nbconvert_exporter": "python",
   "pygments_lexer": "ipython3",
   "version": "3.12.4"
  }
 },
 "nbformat": 4,
 "nbformat_minor": 2
}
