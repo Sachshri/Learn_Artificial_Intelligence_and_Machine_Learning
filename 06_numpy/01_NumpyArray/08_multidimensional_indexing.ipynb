{
 "cells": [
  {
   "cell_type": "code",
   "execution_count": 2,
   "metadata": {},
   "outputs": [],
   "source": [
    "import numpy as np"
   ]
  },
  {
   "cell_type": "code",
   "execution_count": 5,
   "metadata": {},
   "outputs": [
    {
     "name": "stdout",
     "output_type": "stream",
     "text": [
      "[[[ 1  2  3]\n",
      "  [ 4  5  6]]\n",
      "\n",
      " [[10 20 30]\n",
      "  [40 50 60]]]\n",
      "array[0]\n",
      "[[1 2 3]\n",
      " [4 5 6]]\n",
      "array[0][1]\n",
      "[4 5 6]\n",
      "[4 5 6]\n",
      "array[0][1][1]\n",
      "5\n",
      "5\n"
     ]
    }
   ],
   "source": [
    "array=np.array([[[1,2,3],[4,5,6]],[[10,20,30],[40,50,60]]])\n",
    "print(array)\n",
    "print(\"array[0]\")\n",
    "print(array[0])\n",
    "print(\"array[0][1]\")\n",
    "print(array[0][1])\n",
    "print(array[0,1])\n",
    "print(\"array[0][1][1]\")\n",
    "print(array[0][1][1])\n",
    "print(array[0,1,1])\n",
    "\n",
    "\n"
   ]
  },
  {
   "cell_type": "markdown",
   "metadata": {},
   "source": [
    "#### Row access"
   ]
  },
  {
   "cell_type": "code",
   "execution_count": 9,
   "metadata": {},
   "outputs": [
    {
     "name": "stdout",
     "output_type": "stream",
     "text": [
      "[[1 2 3]\n",
      " [4 5 6]]\n",
      "[10 20 30]\n"
     ]
    }
   ],
   "source": [
    "array=np.array([[[1,2,3],[4,5,6]],[[10,20,30],[40,50,60]]])\n",
    "\n",
    "print(array[0,:])\n",
    "print(array[1,0,:])"
   ]
  },
  {
   "cell_type": "markdown",
   "metadata": {},
   "source": [
    "#### column access"
   ]
  },
  {
   "cell_type": "code",
   "execution_count": 15,
   "metadata": {},
   "outputs": [
    {
     "name": "stdout",
     "output_type": "stream",
     "text": [
      "[[  4   5   6]\n",
      " [ 40  50  60]\n",
      " [400 500 600]]\n",
      "******************************\n",
      "[[  3   6   9]\n",
      " [ 30  60  90]\n",
      " [300 600 900]]\n",
      "******************************\n",
      "[  6  60 600]\n"
     ]
    }
   ],
   "source": [
    "array=np.array([[[1,2,3],[4,5,6],[7,8,9]],[[10,20,30],[40,50,60],[70,80,90]],[[100,200,300],[400,500,600],[700,800,900]]])\n",
    "\n",
    "print(array[:,1,:])\n",
    "print(\"*\"*30)\n",
    "print(array[:,:,2])\n",
    "print(\"*\"*30)\n",
    "print(array[:,1,2])"
   ]
  },
  {
   "cell_type": "markdown",
   "metadata": {},
   "source": [
    "#### Accessing with specific case"
   ]
  },
  {
   "cell_type": "code",
   "execution_count": 31,
   "metadata": {},
   "outputs": [
    {
     "name": "stdout",
     "output_type": "stream",
     "text": [
      "[[[ 1  2  3]\n",
      "  [ 4  5  6]\n",
      "  [ 7  8  9]]\n",
      "\n",
      " [[10 20 30]\n",
      "  [40 50 60]\n",
      "  [70 80 90]]]\n",
      "******************************\n",
      "[[ 4  5  6]\n",
      " [70 80 90]]\n",
      "******************************\n",
      "[ 6 80]\n",
      "******************************\n",
      "[[ 3  6  9]\n",
      " [20 50 80]]\n"
     ]
    }
   ],
   "source": [
    "array=np.array([[[1,2,3],[4,5,6],[7,8,9]],[[10,20,30],[40,50,60],[70,80,90]],[[100,200,300],[400,500,600],[700,800,900]]])\n",
    "\n",
    "print(array[[0,1],:,:])\n",
    "print(\"*\"*30)\n",
    "print(array[[0,1],[1,2],:])\n",
    "print(\"*\"*30)\n",
    "print(array[[0,1],[1,2],[2,1]])\n",
    "print(\"*\"*30)\n",
    "print(array[[0,1],:,[2,1]])"
   ]
  },
  {
   "cell_type": "markdown",
   "metadata": {},
   "source": [
    "#### Accessing with specific condition"
   ]
  },
  {
   "cell_type": "code",
   "execution_count": 39,
   "metadata": {},
   "outputs": [
    {
     "name": "stdout",
     "output_type": "stream",
     "text": [
      "[[[False False False]\n",
      "  [False False False]\n",
      "  [ True  True  True]]\n",
      "\n",
      " [[ True  True  True]\n",
      "  [ True  True  True]\n",
      "  [ True  True  True]]\n",
      "\n",
      " [[ True  True  True]\n",
      "  [ True  True  True]\n",
      "  [ True  True  True]]]\n",
      "[  6   7   8   9  10  20  30  40  50  60  70  80  90 100 200 300 400 500\n",
      " 600 700 800 900]\n",
      "[[[  0   0   0]\n",
      "  [  0   5   6]\n",
      "  [  7   8   9]]\n",
      "\n",
      " [[ 10  20  30]\n",
      "  [ 40  50  60]\n",
      "  [ 70  80  90]]\n",
      "\n",
      " [[100 200 300]\n",
      "  [400 500 600]\n",
      "  [700 800 900]]]\n"
     ]
    }
   ],
   "source": [
    "array=np.array([[[1,2,3],[4,5,6],[7,8,9]],[[10,20,30],[40,50,60],[70,80,90]],[[100,200,300],[400,500,600],[700,800,900]]])\n",
    "\n",
    "print(array>6)\n",
    "print(array[array>5])\n",
    "array[array<5]=0\n",
    "print(array)"
   ]
  }
 ],
 "metadata": {
  "kernelspec": {
   "display_name": "MLenv",
   "language": "python",
   "name": "python3"
  },
  "language_info": {
   "codemirror_mode": {
    "name": "ipython",
    "version": 3
   },
   "file_extension": ".py",
   "mimetype": "text/x-python",
   "name": "python",
   "nbconvert_exporter": "python",
   "pygments_lexer": "ipython3",
   "version": "3.12.4"
  }
 },
 "nbformat": 4,
 "nbformat_minor": 2
}
