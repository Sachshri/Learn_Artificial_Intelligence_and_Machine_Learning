{
 "cells": [
  {
   "cell_type": "markdown",
   "metadata": {},
   "source": [
    "# Array Operations"
   ]
  },
  {
   "cell_type": "markdown",
   "metadata": {},
   "source": [
    "#### 1. range()"
   ]
  },
  {
   "cell_type": "code",
   "execution_count": 1,
   "metadata": {},
   "outputs": [
    {
     "name": "stdout",
     "output_type": "stream",
     "text": [
      "range(0, 5)\n",
      "[0, 1, 2, 3, 4]\n",
      "range(4, 90)\n",
      "[5, 10, 15, 20, 25, 30, 35, 40, 45]\n"
     ]
    }
   ],
   "source": [
    "print(range(5))\n",
    "print(list(range(5)))\n",
    "print(range(4,90))\n",
    "print(list(range(5,50,5)))"
   ]
  },
  {
   "cell_type": "markdown",
   "metadata": {},
   "source": [
    "#### 2. np.arange()"
   ]
  },
  {
   "cell_type": "code",
   "execution_count": 2,
   "metadata": {},
   "outputs": [
    {
     "name": "stdout",
     "output_type": "stream",
     "text": [
      "[3.  4.5]\n",
      "[10  8  6  4  2]\n"
     ]
    }
   ],
   "source": [
    "import numpy as np\n",
    "\n",
    "np_array=np.arange(3,6,1.5)\n",
    "print(np_array)\n",
    "np_array=np.arange(10,0,-2)\n",
    "print(np_array)"
   ]
  },
  {
   "cell_type": "markdown",
   "metadata": {},
   "source": [
    "#### 3. linspace()"
   ]
  },
  {
   "cell_type": "code",
   "execution_count": 9,
   "metadata": {},
   "outputs": [
    {
     "name": "stdout",
     "output_type": "stream",
     "text": [
      "[1.  1.4 1.8 2.2 2.6 3. ]\n",
      "[1.         1.33333333 1.66666667 2.         2.33333333 2.66666667]\n",
      "[1.  1.4 1.8 2.2 2.6 3. ] 0.4\n"
     ]
    }
   ],
   "source": [
    "l=np.linspace(1,3,6)\n",
    "print(l)\n",
    "l=np.linspace(1,3,6,endpoint=False)\n",
    "print(l)\n",
    "l,s=np.linspace(1,3,6,retstep=True)\n",
    "print(l,s)"
   ]
  },
  {
   "cell_type": "markdown",
   "metadata": {},
   "source": [
    "#### 4. logspace()"
   ]
  },
  {
   "cell_type": "code",
   "execution_count": 15,
   "metadata": {},
   "outputs": [
    {
     "name": "stdout",
     "output_type": "stream",
     "text": [
      "[  10.           19.30697729   37.2759372    71.9685673   138.94954944\n",
      "  268.26957953  517.94746792 1000.        ]\n",
      "[2.         2.43802731 2.97198858 3.62289466 4.41635805 5.38360077\n",
      " 6.56268285 8.        ]\n",
      "[1.00000000e+00 5.65685425e+00 3.20000000e+01 1.81019336e+02\n",
      " 1.02400000e+03]\n"
     ]
    }
   ],
   "source": [
    "ls=np.logspace(1,3,8)\n",
    "print(ls)\n",
    "ls=np.logspace(1,3,8,base=2,)\n",
    "print(ls)\n",
    "arr = np.logspace(0,10,5, base = 2)\n",
    "print(arr)\n"
   ]
  },
  {
   "cell_type": "markdown",
   "metadata": {},
   "source": [
    "# Manipulating Arrays"
   ]
  },
  {
   "cell_type": "markdown",
   "metadata": {},
   "source": [
    "## 1. Flattening"
   ]
  },
  {
   "cell_type": "code",
   "execution_count": 18,
   "metadata": {},
   "outputs": [
    {
     "name": "stdout",
     "output_type": "stream",
     "text": [
      "[[1 2 3]\n",
      " [4 5 6]\n",
      " [7 8 9]]\n",
      "[1 2 3 4 5 6 7 8 9]\n"
     ]
    }
   ],
   "source": [
    "np_array=np.array([[1,2,3],[4,5,6],[7,8,9]])\n",
    "print(np_array)\n",
    "flat_arr=np_array.flatten()\n",
    "print(flat_arr)"
   ]
  },
  {
   "cell_type": "markdown",
   "metadata": {},
   "source": [
    "## 2. Reshaping"
   ]
  },
  {
   "cell_type": "code",
   "execution_count": 20,
   "metadata": {},
   "outputs": [
    {
     "name": "stdout",
     "output_type": "stream",
     "text": [
      "[[1]\n",
      " [2]\n",
      " [3]\n",
      " [4]\n",
      " [5]\n",
      " [6]\n",
      " [7]\n",
      " [8]\n",
      " [9]]\n"
     ]
    }
   ],
   "source": [
    "reshaped=np.reshape(np_array,(9,1))\n",
    "print(reshaped)"
   ]
  },
  {
   "cell_type": "markdown",
   "metadata": {},
   "source": [
    "## 3. Splitting"
   ]
  },
  {
   "cell_type": "markdown",
   "metadata": {},
   "source": [
    "- vsplit"
   ]
  },
  {
   "cell_type": "code",
   "execution_count": 31,
   "metadata": {},
   "outputs": [
    {
     "name": "stdout",
     "output_type": "stream",
     "text": [
      "[array([[1, 2, 3]]), array([[4, 5, 6]]), array([[7, 8, 9]])]\n"
     ]
    }
   ],
   "source": [
    "np_array=np.array([[1,2,3],[4,5,6],[7,8,9]])\n",
    "vspl=np.vsplit(np_array,3)\n",
    "print(vspl)"
   ]
  },
  {
   "cell_type": "markdown",
   "metadata": {},
   "source": [
    "- hsplit"
   ]
  },
  {
   "cell_type": "code",
   "execution_count": 33,
   "metadata": {},
   "outputs": [
    {
     "name": "stdout",
     "output_type": "stream",
     "text": [
      "[array([[1],\n",
      "       [4],\n",
      "       [7]]), array([[2],\n",
      "       [5],\n",
      "       [8]]), array([[3],\n",
      "       [6],\n",
      "       [9]])]\n"
     ]
    }
   ],
   "source": [
    "hspl=np.hsplit(np_array,3)\n",
    "print(hspl)"
   ]
  },
  {
   "cell_type": "markdown",
   "metadata": {},
   "source": [
    "- split"
   ]
  },
  {
   "cell_type": "code",
   "execution_count": 37,
   "metadata": {},
   "outputs": [
    {
     "name": "stdout",
     "output_type": "stream",
     "text": [
      "[array([[1, 2, 3]]), array([[4, 5, 6]]), array([[7, 8, 9]])]\n",
      "[array([[1],\n",
      "       [4],\n",
      "       [7]]), array([[2],\n",
      "       [5],\n",
      "       [8]]), array([[3],\n",
      "       [6],\n",
      "       [9]])]\n",
      "[[1]\n",
      " [4]\n",
      " [7]]\n",
      "[[2]\n",
      " [5]\n",
      " [8]]\n",
      "[[3]\n",
      " [6]\n",
      " [9]]\n"
     ]
    }
   ],
   "source": [
    "vspl=np.split(np_array,3,axis=0)\n",
    "print(vspl)\n",
    "hspl=np.split(np_array,3,axis=1)\n",
    "print(hspl)\n",
    "\n",
    "for _ in hspl:\n",
    "    print(_)"
   ]
  },
  {
   "cell_type": "markdown",
   "metadata": {},
   "source": [
    "## 4. Merging"
   ]
  },
  {
   "cell_type": "markdown",
   "metadata": {},
   "source": [
    "- concatinate"
   ]
  },
  {
   "cell_type": "code",
   "execution_count": 45,
   "metadata": {},
   "outputs": [
    {
     "name": "stdout",
     "output_type": "stream",
     "text": [
      "[[ 2  3  5]\n",
      " [ 5  6  7]\n",
      " [22 33 54]\n",
      " [15 26 37]\n",
      " [22 34 53]\n",
      " [33 64 75]\n",
      " [25 38 57]\n",
      " [56 65 73]]\n",
      "(2, 12)\n",
      "[[ 2  3  5 22 33 54 22 34 53 25 38 57]\n",
      " [ 5  6  7 15 26 37 33 64 75 56 65 73]]\n"
     ]
    }
   ],
   "source": [
    "arr1=np.array([[2,3,5],[5,6,7]])\n",
    "arr2=np.array([[22,33,54],[15,26,37]])\n",
    "arr3=np.array([[22,34,53],[33,64,75]])\n",
    "arr4=np.array([[25,38,57],[56,65,73]])\n",
    "\n",
    "concat_arr=np.concatenate((arr1,arr2,arr3,arr4),axis=0)\n",
    "print(concat_arr)\n",
    "concat_arr=np.concatenate((arr1,arr2,arr3,arr4),axis=1)\n",
    "print(concat_arr.shape)\n",
    "print(concat_arr)"
   ]
  },
  {
   "cell_type": "markdown",
   "metadata": {},
   "source": [
    "- vstack"
   ]
  },
  {
   "cell_type": "code",
   "execution_count": 40,
   "metadata": {},
   "outputs": [
    {
     "name": "stdout",
     "output_type": "stream",
     "text": [
      "[[ 2  3  5]\n",
      " [ 5  6  7]\n",
      " [22 33 54]\n",
      " [15 26 37]\n",
      " [22 34 53]\n",
      " [33 64 75]\n",
      " [25 38 57]\n",
      " [56 65 73]]\n"
     ]
    }
   ],
   "source": [
    "arr1=np.array([[2,3,5],[5,6,7]])\n",
    "arr2=np.array([[22,33,54],[15,26,37]])\n",
    "arr3=np.array([[22,34,53],[33,64,75]])\n",
    "arr4=np.array([[25,38,57],[56,65,73]])\n",
    "\n",
    "vstk=np.vstack((arr1,arr2,arr3,arr4))\n",
    "print(vstk)"
   ]
  },
  {
   "cell_type": "markdown",
   "metadata": {},
   "source": [
    "- hstack"
   ]
  },
  {
   "cell_type": "code",
   "execution_count": 43,
   "metadata": {},
   "outputs": [
    {
     "name": "stdout",
     "output_type": "stream",
     "text": [
      "(2, 12)\n",
      "[[ 2  3  5 22 33 54 22 34 53 25 38 57]\n",
      " [ 5  6  7 15 26 37 33 64 75 56 65 73]]\n"
     ]
    }
   ],
   "source": [
    "arr1=np.array([[2,3,5],[5,6,7]])\n",
    "arr2=np.array([[22,33,54],[15,26,37]])\n",
    "arr3=np.array([[22,34,53],[33,64,75]])\n",
    "arr4=np.array([[25,38,57],[56,65,73]])\n",
    "\n",
    "hstk=np.hstack((arr1,arr2,arr3,arr4))\n",
    "print(hstk.shape)\n",
    "print(hstk)"
   ]
  },
  {
   "cell_type": "markdown",
   "metadata": {},
   "source": [
    "- stack"
   ]
  },
  {
   "cell_type": "code",
   "execution_count": 44,
   "metadata": {},
   "outputs": [
    {
     "name": "stdout",
     "output_type": "stream",
     "text": [
      "(2, 4, 3)\n",
      "[[[ 2  3  5]\n",
      "  [22 33 54]\n",
      "  [22 34 53]\n",
      "  [25 38 57]]\n",
      "\n",
      " [[ 5  6  7]\n",
      "  [15 26 37]\n",
      "  [33 64 75]\n",
      "  [56 65 73]]]\n"
     ]
    }
   ],
   "source": [
    "arr1=np.array([[2,3,5],[5,6,7]])\n",
    "arr2=np.array([[22,33,54],[15,26,37]])\n",
    "arr3=np.array([[22,34,53],[33,64,75]])\n",
    "arr4=np.array([[25,38,57],[56,65,73]])\n",
    "\n",
    "hstk=np.stack((arr1,arr2,arr3,arr4),axis=1)\n",
    "print(hstk.shape)\n",
    "print(hstk)"
   ]
  },
  {
   "cell_type": "code",
   "execution_count": 24,
   "metadata": {},
   "outputs": [
    {
     "name": "stdout",
     "output_type": "stream",
     "text": [
      "(4, 2, 3)\n",
      "[[[ 2  3  5]\n",
      "  [ 5  6  7]]\n",
      "\n",
      " [[22 33 54]\n",
      "  [15 26 37]]\n",
      "\n",
      " [[22 34 53]\n",
      "  [33 64 75]]\n",
      "\n",
      " [[25 38 57]\n",
      "  [56 65 73]]]\n"
     ]
    }
   ],
   "source": [
    "arr1=np.array([[2,3,5],[5,6,7]])\n",
    "arr2=np.array([[22,33,54],[15,26,37]])\n",
    "arr3=np.array([[22,34,53],[33,64,75]])\n",
    "arr4=np.array([[25,38,57],[56,65,73]])\n",
    "\n",
    "vstk=np.stack((arr1,arr2,arr3,arr4))\n",
    "print(vstk.shape)\n",
    "print(vstk)"
   ]
  },
  {
   "cell_type": "code",
   "execution_count": 48,
   "metadata": {},
   "outputs": [
    {
     "name": "stdout",
     "output_type": "stream",
     "text": [
      "44.666666666666664\n",
      "44.78280340349306\n"
     ]
    }
   ],
   "source": [
    "print(268/6)\n",
    "print(2000/44.66)"
   ]
  },
  {
   "cell_type": "markdown",
   "metadata": {},
   "source": [
    "# Broadcasting arrays for simple calculations"
   ]
  },
  {
   "cell_type": "markdown",
   "metadata": {},
   "source": [
    "- Arithmetic"
   ]
  },
  {
   "cell_type": "code",
   "execution_count": 18,
   "metadata": {},
   "outputs": [
    {
     "name": "stdout",
     "output_type": "stream",
     "text": [
      "[[24 36 59]\n",
      " [20 32 44]]\n",
      "--------------------\n",
      "[[24 36 59]\n",
      " [27 39 61]]\n",
      "--------------------\n",
      "[[[ 27  41  62]\n",
      "  [ 61  71  80]]\n",
      "\n",
      " [[260 391 602]\n",
      "  [ 61  71  80]]]\n",
      "--------------------\n",
      "[[[ 27  41  62]\n",
      "  [ 61  71  80]]\n",
      "\n",
      " [[260 391 602]\n",
      "  [ 61  71  80]]]\n"
     ]
    }
   ],
   "source": [
    "arr1=np.array([[2,3,5],[5,6,7]])\n",
    "arr2=np.array([[22,33,54],[15,26,37]])\n",
    "arr3=np.array([22,33,54])\n",
    "arr4=np.array([[[25,38,57],[56,65,73]],[[258,388,597],[56,65,73]]])\n",
    "#addition\n",
    "print(arr1+arr2)\n",
    "print(\"-\"*20)\n",
    "print(arr1+arr3)\n",
    "print(\"-\"*20)\n",
    "print(arr4+arr1)\n",
    "print(\"-\"*20)\n",
    "print(arr1+arr4)\n",
    "## do the same for all other operations\n"
   ]
  },
  {
   "cell_type": "markdown",
   "metadata": {},
   "source": [
    "- comparison\n"
   ]
  },
  {
   "cell_type": "code",
   "execution_count": 26,
   "metadata": {},
   "outputs": [
    {
     "name": "stdout",
     "output_type": "stream",
     "text": [
      "[[False False False]\n",
      " [False False False]]\n",
      "--------------------\n",
      "[[False False False]\n",
      " [False False False]]\n",
      "--------------------\n",
      "[[[ True  True  True]\n",
      "  [ True  True  True]]\n",
      "\n",
      " [[ True  True  True]\n",
      "  [ True  True  True]]]\n",
      "--------------------\n",
      "[2 3 5 5 6 7]\n"
     ]
    }
   ],
   "source": [
    "arr1=np.array([[2,3,5],[5,6,7]])\n",
    "arr2=np.array([[22,33,54],[15,26,37]])\n",
    "arr3=np.array([22,33,54])\n",
    "arr4=np.array([[[25,38,57],[56,65,73]],[[258,388,597],[56,65,73]]])\n",
    "print(arr1>arr2)\n",
    "print('-'*20)\n",
    "print(arr1>arr3)\n",
    "print('-'*20)\n",
    "print(arr1<arr4)\n",
    "print('-'*20)\n",
    "a=arr1[arr1<arr3]\n",
    "print(a)"
   ]
  },
  {
   "cell_type": "markdown",
   "metadata": {},
   "source": [
    "- Logical\n"
   ]
  },
  {
   "cell_type": "code",
   "execution_count": 41,
   "metadata": {},
   "outputs": [
    {
     "name": "stdout",
     "output_type": "stream",
     "text": [
      "[[2 1 4]\n",
      " [5 2 5]]\n",
      "[[2 1 4]\n",
      " [5 2 5]]\n",
      "--------------------\n",
      "[[22 35 55]\n",
      " [15 30 39]]\n",
      "[[22 35 55]\n",
      " [15 30 39]]\n",
      "--------------------\n",
      "[[20 34 51]\n",
      " [10 28 34]]\n",
      "[[20 34 51]\n",
      " [10 28 34]]\n",
      "--------------------\n",
      "[[-23 -34 -55]\n",
      " [-16 -27 -38]]\n",
      "[[-23 -34 -55]\n",
      " [-16 -27 -38]]\n",
      "--------------------\n",
      "[[1 1 2]\n",
      " [2 3 3]]\n",
      "[[0 0 0]\n",
      " [0 0 0]]\n",
      "[[1 1 2]\n",
      " [2 3 3]]\n",
      "--------------------\n",
      "[[ 64  96 160]\n",
      " [160 192 224]]\n",
      "[[  8388608         0         0]\n",
      " [   163840 402653184         0]]\n",
      "[[ 64  96 160]\n",
      " [160 192 224]]\n"
     ]
    }
   ],
   "source": [
    "arr1=np.array([[2,3,5],[5,6,7]])\n",
    "arr2=np.array([[22,33,54],[15,26,37]])\n",
    "\n",
    "print(arr1 & arr2)\n",
    "print(np.bitwise_and(arr1,arr2))\n",
    "print('-'*20)\n",
    "print(arr1 | arr2)\n",
    "print(np.bitwise_or(arr1,arr2))\n",
    "print('-'*20)\n",
    "print(arr1 ^ arr2)\n",
    "print(np.bitwise_xor(arr1,arr2))\n",
    "print('-'*20)\n",
    "print(~arr2)\n",
    "print(np.bitwise_not(arr2))\n",
    "print('-'*20)\n",
    "print(np.right_shift(arr1,1))\n",
    "print(np.right_shift(arr1,arr2)) \n",
    "print(arr1>>1) \n",
    "print('-'*20)\n",
    "print(np.left_shift(arr1,5)) \n",
    "print(np.left_shift(arr1,arr2)) \n",
    "print(arr1<<5) "
   ]
  },
  {
   "cell_type": "markdown",
   "metadata": {},
   "source": [
    "# where clause in arrays"
   ]
  },
  {
   "cell_type": "code",
   "execution_count": 43,
   "metadata": {},
   "outputs": [
    {
     "name": "stdout",
     "output_type": "stream",
     "text": [
      "(array([0, 1, 2, 4, 7, 9], dtype=int64),)\n",
      "--------------------\n",
      "(array([0, 1, 2, 2], dtype=int64), array([1, 0, 0, 2], dtype=int64))\n",
      "--------------------\n",
      "(array([0, 0, 0, 0, 0, 1, 1, 1, 1, 1, 1, 2, 2, 2, 2, 2, 2], dtype=int64), array([0, 0, 1, 1, 2, 0, 0, 1, 2, 2, 2, 0, 0, 1, 1, 2, 2], dtype=int64), array([1, 2, 1, 2, 2, 0, 2, 2, 0, 1, 2, 1, 2, 1, 2, 0, 1], dtype=int64))\n",
      "--------------------\n"
     ]
    }
   ],
   "source": [
    "# 1 d array\n",
    "\n",
    "arr=np.random.randint(1,11,size=10)\n",
    "\n",
    "index=np.where(arr>=5)\n",
    "print(index)\n",
    "print('-'*20)\n",
    "arr=np.random.randint(1,11,size=(3,3))\n",
    "\n",
    "index=np.where(arr>5)\n",
    "print(index)\n",
    "print('-'*20)\n",
    "arr=np.random.randint(1,11,size=(3,3,3))\n",
    "\n",
    "index=np.where(arr>5)\n",
    "print(index)\n",
    "print('-'*20)"
   ]
  }
 ],
 "metadata": {
  "kernelspec": {
   "display_name": "MLenv",
   "language": "python",
   "name": "python3"
  },
  "language_info": {
   "codemirror_mode": {
    "name": "ipython",
    "version": 3
   },
   "file_extension": ".py",
   "mimetype": "text/x-python",
   "name": "python",
   "nbconvert_exporter": "python",
   "pygments_lexer": "ipython3",
   "version": "3.12.4"
  }
 },
 "nbformat": 4,
 "nbformat_minor": 2
}
