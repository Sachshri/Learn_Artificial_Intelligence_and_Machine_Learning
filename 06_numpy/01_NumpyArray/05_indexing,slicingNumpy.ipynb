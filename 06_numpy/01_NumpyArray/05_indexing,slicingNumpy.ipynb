{
 "cells": [
  {
   "cell_type": "markdown",
   "metadata": {},
   "source": [
    "# Indexing, Slicing, Appending, Deleting in NUMPY ARRAYS"
   ]
  },
  {
   "cell_type": "markdown",
   "metadata": {},
   "source": [
    "#### 1. LISTS"
   ]
  },
  {
   "cell_type": "code",
   "execution_count": null,
   "metadata": {},
   "outputs": [],
   "source": [
    "lst=list(range(5))\n",
    "lst\n",
    "\n",
    "# lst[5]  IndexError\n",
    "\n",
    "lst[4]\n",
    "\n",
    "lst.append(6)\n",
    "lst\n",
    "\n",
    "del lst[4]\n",
    "lst\n",
    "\n",
    "sliced=(lst[-3:-1])\n",
    "print(sliced,lst)\n",
    "\n",
    "sliced2=lst[1:-1:2]\n",
    "print(sliced2)\n",
    "\n",
    "print(lst[::-1])\n"
   ]
  },
  {
   "cell_type": "markdown",
   "metadata": {},
   "source": [
    "#### 2. NUMPY ARRAYS"
   ]
  },
  {
   "cell_type": "code",
   "execution_count": 25,
   "metadata": {},
   "outputs": [
    {
     "name": "stdout",
     "output_type": "stream",
     "text": [
      "[0 1 2 3 4]\n",
      "4\n",
      "After Insertion:  [ 0 20 30  1  2  3  4]\n",
      "[ 0 20 30  1  2  3  4]\n",
      "After Deletion:  [ 0 20 30  1  3  4]\n",
      "After SLicing1 [1 3] [ 0 20 30  1  3  4]\n",
      "After SLicing2 [20  1]\n",
      "Reversing:  [ 4  3  1 30 20  0]\n"
     ]
    }
   ],
   "source": [
    "import numpy as np\n",
    "\n",
    "np_lst=np.arange(5)\n",
    "print(np_lst)\n",
    "\n",
    "# lst[5]  IndexError\n",
    "\n",
    "print(np_lst[4])\n",
    "\n",
    "np_lst=np.insert(np_lst, 1, [20, 30])\n",
    "print(\"After Insertion: \",np_lst)\n",
    "np.append(np_lst,8)\n",
    "print(np_lst)\n",
    "np_lst=np.delete(np_lst,4)\n",
    "print(\"After Deletion: \",np_lst)\n",
    "\n",
    "sliced=(np_lst[-3:-1])\n",
    "print(\"After SLicing1\",sliced,np_lst)\n",
    "\n",
    "sliced2=np_lst[1:-1:2]\n",
    "print(\"After SLicing2\",sliced2)\n",
    "\n",
    "print(\"Reversing: \",np_lst[::-1])"
   ]
  }
 ],
 "metadata": {
  "kernelspec": {
   "display_name": "MLenv",
   "language": "python",
   "name": "python3"
  },
  "language_info": {
   "codemirror_mode": {
    "name": "ipython",
    "version": 3
   },
   "file_extension": ".py",
   "mimetype": "text/x-python",
   "name": "python",
   "nbconvert_exporter": "python",
   "pygments_lexer": "ipython3",
   "version": "3.12.4"
  }
 },
 "nbformat": 4,
 "nbformat_minor": 2
}
