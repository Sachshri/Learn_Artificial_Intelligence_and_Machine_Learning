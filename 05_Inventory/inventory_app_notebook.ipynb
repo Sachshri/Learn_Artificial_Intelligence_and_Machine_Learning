{
 "cells": [
  {
   "cell_type": "markdown",
   "metadata": {},
   "source": [
    "# What is Inventory?\n",
    "Inventory management is a crucial asset for businesses as it enables them to minimize the cost of inventory on a company’s balance sheet when they receive these goods. Inventory can be classified in three ways, including materials, work-in-progress, and finished goods.\n",
    "\n",
    ">>**Defination** : Inventory is the accounting of items, component parts and raw materials that a company either uses in production or sells. As a business leader, you practice inventory management in order to ensure that you have enough stock on hand and to identify when there’s a shortage.\n",
    "\n",
    "## Meaning of Inventory: Breaking down the definitions\n",
    " Inventory is:\n",
    "\n",
    "  i) An asset, tangible or intangible,\n",
    "\n",
    " ii) An asset that can be realized for revenue generation or has a value for exchange, or\n",
    "\n",
    " iii) An asset which is in process but is meant for sale in the market"
   ]
  },
  {
   "cell_type": "markdown",
   "metadata": {},
   "source": [
    "### A Inventory For a Kiryana Store\n",
    "\n",
    "#### Information of the Products in Inventory\n",
    "\n",
    "1. Product ID\n",
    "2. Product Name\n",
    "3. Product Price\n",
    "4. Product Quantity"
   ]
  },
  {
   "cell_type": "code",
   "execution_count": 13,
   "metadata": {},
   "outputs": [
    {
     "data": {
      "text/plain": [
       "<module 'inventory_operations' from 'e:\\\\DataScience\\\\01_python\\\\05_Inventory\\\\inventory_operations.py'>"
      ]
     },
     "execution_count": 13,
     "metadata": {},
     "output_type": "execute_result"
    }
   ],
   "source": [
    "import importlib\n",
    "import inventory_operations as io\n",
    "importlib.reload(io)"
   ]
  },
  {
   "cell_type": "code",
   "execution_count": 14,
   "metadata": {},
   "outputs": [
    {
     "name": "stdout",
     "output_type": "stream",
     "text": [
      "--------------Enter from the following Options--------------\n",
      "Add User: A\n",
      "Update Inventory: I\n",
      "Get User Details: G\n",
      "Buy Something: B\n",
      "----------------------------Menu----------------------------\n",
      "   Product ID          Product Name          Product Price    \n",
      "------------------------------------------------------------\n",
      "       5                Blackberry                 6          \n",
      "       6                  toffy                    5          \n",
      "       3                  ravan                    6          \n",
      "       7                 colgate                   50         \n",
      "       8            fair and handsome             100         \n",
      "       10               Tea Patti                  55         \n",
      "       99                 Rajma                    60         \n",
      "------------------------------------------------------------\n",
      "------------------------User Details------------------------\n",
      "User Name  :  Tarjan\n",
      "User Mobile:  77777\n",
      "User Mail:  targan@mail.com\n",
      "--------------------------Receipt---------------------------\n",
      "Product Name      :  colgate\n",
      "Product Price     :  50\n",
      "Product Quantity  :  5\n",
      "----------------------------Bill----------------------------\n",
      "Total Amount  :  Rs. 250\n",
      "------------------------------------------------------------\n",
      "None\n"
     ]
    }
   ],
   "source": [
    "#what you want to do\n",
    "print(\"Enter from the following Options\".center(60,'-'))\n",
    "print(\"Add User: A\",\"Update Inventory: I\",\"Get User Details: G\",\"Buy Something: B\",sep='\\n')\n",
    "choice=input(\"Enter Here: \")\n",
    "\n",
    "while True:\n",
    "    if(choice=='A'):\n",
    "\n",
    "\n",
    "\n",
    "\n",
    "\n",
    "\n",
    "        io.add_user()\n",
    "    elif(choice=='I'):\n",
    "        p_id=input(\"Enter the product ID: \")\n",
    "        p_qty=input(\"Enter the Product Quantity: \")\n",
    "        io.update_inventory(p_id,p_qty)\n",
    "    elif(choice=='G'):\n",
    "        print(io.add_user(True))\n",
    "    elif(choice=='B'):\n",
    "            print(io.process_request()) \n",
    "    c=input(\"Press 'Y' to Process More else press any key to exit: \" )\n",
    "    if c!='Y':\n",
    "         break       "
   ]
  }
 ],
 "metadata": {
  "kernelspec": {
   "display_name": "MLenv",
   "language": "python",
   "name": "python3"
  },
  "language_info": {
   "codemirror_mode": {
    "name": "ipython",
    "version": 3
   },
   "file_extension": ".py",
   "mimetype": "text/x-python",
   "name": "python",
   "nbconvert_exporter": "python",
   "pygments_lexer": "ipython3",
   "version": "3.12.4"
  }
 },
 "nbformat": 4,
 "nbformat_minor": 2
}
