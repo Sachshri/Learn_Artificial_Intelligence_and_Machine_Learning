{
 "cells": [
  {
   "cell_type": "code",
   "execution_count": null,
   "metadata": {},
   "outputs": [],
   "source": [
    "import os"
   ]
  },
  {
   "cell_type": "code",
   "execution_count": null,
   "metadata": {},
   "outputs": [],
   "source": [
    "os.getcwd()"
   ]
  },
  {
   "cell_type": "code",
   "execution_count": null,
   "metadata": {},
   "outputs": [],
   "source": [
    "os.listdir()\n"
   ]
  },
  {
   "cell_type": "code",
   "execution_count": null,
   "metadata": {},
   "outputs": [],
   "source": [
    "os.chdir('..')\n",
    "os.getcwd()"
   ]
  },
  {
   "cell_type": "code",
   "execution_count": null,
   "metadata": {},
   "outputs": [],
   "source": [
    "os.chdir('01_python')\n",
    "os.listdir()"
   ]
  },
  {
   "cell_type": "code",
   "execution_count": null,
   "metadata": {},
   "outputs": [],
   "source": [
    "os.makedirs('06_files/sachin', exist_ok=True)"
   ]
  },
  {
   "cell_type": "code",
   "execution_count": null,
   "metadata": {},
   "outputs": [],
   "source": [
    "if not os.path.exists('06_files'):\n",
    "    os.mkdir('06_files')\n",
    "else:\n",
    "    print(\"Directory already exists\")    \n",
    "os.listdir()"
   ]
  },
  {
   "cell_type": "code",
   "execution_count": null,
   "metadata": {},
   "outputs": [],
   "source": [
    "# os.rmdir('06_files') ## this will work only if directory is empty\n",
    "os.rmdir('06_files/sachin')"
   ]
  },
  {
   "cell_type": "code",
   "execution_count": null,
   "metadata": {},
   "outputs": [],
   "source": [
    "os.rename('06_files','Ravan')\n",
    "os.rename('Ravan','06_files')"
   ]
  },
  {
   "cell_type": "code",
   "execution_count": null,
   "metadata": {},
   "outputs": [],
   "source": [
    "f=open('06_files/File1.txt','w')\n",
    "f.close()\n",
    "f=open('06_files/File2.txt','w')\n",
    "f.close()"
   ]
  },
  {
   "cell_type": "code",
   "execution_count": null,
   "metadata": {},
   "outputs": [],
   "source": [
    "os.remove('06_files/File2.txt')"
   ]
  },
  {
   "cell_type": "code",
   "execution_count": null,
   "metadata": {},
   "outputs": [],
   "source": [
    "os.rename('06_files/File1.txt',\"06_files/File2.txt\")"
   ]
  },
  {
   "cell_type": "code",
   "execution_count": null,
   "metadata": {},
   "outputs": [],
   "source": [
    "import shutil\n",
    "shutil.move('05_Inventory/File2.txt','06_files')\n",
    "os.getcwd()"
   ]
  },
  {
   "cell_type": "code",
   "execution_count": null,
   "metadata": {},
   "outputs": [],
   "source": [
    "shutil.copy('06_files/File2.txt','05_Inventory')"
   ]
  },
  {
   "cell_type": "code",
   "execution_count": null,
   "metadata": {},
   "outputs": [],
   "source": [
    "os.path.getsize('01_fundamentals')"
   ]
  },
  {
   "cell_type": "markdown",
   "metadata": {},
   "source": [
    "##### Creating 100 folders in a folder"
   ]
  },
  {
   "cell_type": "code",
   "execution_count": null,
   "metadata": {},
   "outputs": [],
   "source": [
    "if not os.path.exists('06_files/master'):\n",
    "    os.mkdir('06_files/master')\n",
    "master='06_files/master'\n",
    "for i in range(100):\n",
    "    file_path=master + '/'+'file'+str(i+1)+'.txt'\n",
    "    print(file_path)\n",
    "    f=open(file_path,'w')\n",
    "    f.write(f'This is file{i}\\n')\n",
    "    f.close()"
   ]
  },
  {
   "cell_type": "markdown",
   "metadata": {},
   "source": [
    "#### Creating 5 folders and then creating 5 more folder inside each folder"
   ]
  },
  {
   "cell_type": "code",
   "execution_count": null,
   "metadata": {},
   "outputs": [],
   "source": [
    "master='06_files'\n",
    "\n",
    "for i in range(5):\n",
    "    folder_up=os.path.join(master,str(i+1)+'folder')\n",
    "    os.mkdir(folder_up)\n",
    "    for j in range(5):\n",
    "        folder_in=os.path.join(folder_up,'in'+str(j+1)+\"folder\")\n",
    "        os.mkdir(folder_in)"
   ]
  },
  {
   "cell_type": "code",
   "execution_count": null,
   "metadata": {},
   "outputs": [],
   "source": [
    "for i in range(5):\n",
    "    folder_up=os.path.join(master,str(i+1)+'folder')\n",
    "    for j in range(5):\n",
    "        folder_in=os.path.join(folder_up,'in'+str(j+1)+\"folder\")\n",
    "        os.rmdir(folder_in)\n",
    "    os.rmdir(folder_up)    "
   ]
  },
  {
   "cell_type": "code",
   "execution_count": null,
   "metadata": {},
   "outputs": [],
   "source": [
    "master='06_files/master'\n",
    "list=os.listdir('06_files/master')\n",
    "print(list)\n",
    "\n",
    "txt=''\n",
    "for i in list:\n",
    "    file_path=master+'/'+i\n",
    "    f=open(file_path,'r')\n",
    "    txt+=f.read()\n",
    "    f.close()\n",
    "\n",
    "\n",
    "new_file=master+'/newFile.txt'\n",
    "# f=open(new_file,'w')\n",
    "# f.close()\n",
    "f=open(new_file,'a')\n",
    "f.write(txt)\n",
    "f.close()"
   ]
  },
  {
   "cell_type": "code",
   "execution_count": null,
   "metadata": {},
   "outputs": [],
   "source": [
    "!echo ram is sachin >sachin.txt\n",
    "\n",
    "fd=os.open('06_files/File2.txt',os.O_RDONLY)\n",
    "f_content=os.read(fd,os.path.getsize('06_files/File2.txt'))\n",
    "os.close(fd)\n",
    "# os.decode(fd)\n",
    "#without decode it is showing a 'b' in the starting which is showing that the data read from file is in binary form\n",
    "print(f_content)\n",
    "print(type(f_content))\n",
    "print(f_content.decode())"
   ]
  },
  {
   "cell_type": "markdown",
   "metadata": {},
   "source": [
    "#### Creating a simlink using simlink method"
   ]
  },
  {
   "cell_type": "code",
   "execution_count": null,
   "metadata": {},
   "outputs": [],
   "source": [
    "target='01_fundamentals/01_hello.py'\n",
    "link_name='Sales'\n",
    "\n",
    "os.symlink(target,link_name)\n",
    "print(link_name)\n",
    "## This will give WinError because need privilege of os\n"
   ]
  },
  {
   "cell_type": "code",
   "execution_count": null,
   "metadata": {},
   "outputs": [],
   "source": [
    "import sys\n",
    "print(len('abc'))\n",
    "sys.getsizeof('abc')"
   ]
  }
 ],
 "metadata": {
  "kernelspec": {
   "display_name": "MLenv",
   "language": "python",
   "name": "python3"
  },
  "language_info": {
   "codemirror_mode": {
    "name": "ipython",
    "version": 3
   },
   "file_extension": ".py",
   "mimetype": "text/x-python",
   "name": "python",
   "nbconvert_exporter": "python",
   "pygments_lexer": "ipython3",
   "version": "3.12.4"
  }
 },
 "nbformat": 4,
 "nbformat_minor": 2
}
