{
 "cells": [
  {
   "cell_type": "markdown",
   "metadata": {},
   "source": [
    "# Inventory Management With Files"
   ]
  },
  {
   "cell_type": "markdown",
   "metadata": {},
   "source": [
    "## Product Details\n",
    "1. Product ID\n",
    "2. Product Name\n",
    "3. Product Price\n",
    "4. Product Quantity"
   ]
  },
  {
   "cell_type": "markdown",
   "metadata": {},
   "source": [
    "##### 1. Reading the Details of the Products"
   ]
  },
  {
   "cell_type": "code",
   "execution_count": 2,
   "metadata": {},
   "outputs": [
    {
     "data": {
      "text/plain": [
       "'1,5 Star,5,93\\n2,Milky Bar,5,467\\n3,Cake,300,0\\n4,Candy,1,57'"
      ]
     },
     "execution_count": 2,
     "metadata": {},
     "output_type": "execute_result"
    }
   ],
   "source": [
    "# Taking care of the Time of the Order\n",
    "import time\n",
    "\n",
    "# Reading the details of the product\n",
    "det=open('02_inventory.txt','r')\n",
    "inventory=det.read()\n",
    "det.close()\n",
    "inventory"
   ]
  },
  {
   "cell_type": "markdown",
   "metadata": {},
   "source": [
    "#### 2. Making the order and Updating the sales and product detail in inventory"
   ]
  },
  {
   "cell_type": "code",
   "execution_count": 3,
   "metadata": {},
   "outputs": [
    {
     "name": "stdout",
     "output_type": "stream",
     "text": [
      "--------------------------------------------User Details--------------------------------------------\n",
      "User Name     :  Sachin\n",
      "Phone Number  :  9857974597\n",
      "Email ID      :  jdahsg\n",
      "------------------------------------------Product Details-------------------------------------------\n",
      "Product Name              :  Cake\n",
      "Product Price             :  300\n",
      "Product Quantity          :  0\n",
      "Product Quantity Demanded :  5\n",
      "Bill:  0\n",
      "Thank You! to Visit My Inventory\n",
      "Visit Again!\n"
     ]
    }
   ],
   "source": [
    "# Making the order\n",
    "ui_name=input(\"Enter your name: \")\n",
    "ui_phone=input(\"Enter your phone number: \")\n",
    "ui_email=input(\"Enter your mail Id: \")\n",
    "ui_p_id=input(\"Enter the Product ID: \")\n",
    "ui_p_qty=input(\"Enter your Demand of Product: \")\n",
    "\n",
    "updated_product_details=[]\n",
    "products=inventory.split(\"\\n\")\n",
    "\n",
    "for product in products:\n",
    "    if(product==''): break\n",
    "    product_details=product.split(\",\")\n",
    "    updated_qty=product_details[3]\n",
    "    if(product_details[0]==ui_p_id):\n",
    "        print(\"User Details\".center(100,'-'))\n",
    "        print(\"User Name     : \",ui_name)\n",
    "        print(\"Phone Number  : \",ui_phone)\n",
    "        print(\"Email ID      : \",ui_email)\n",
    "        print(\"Product Details\".center(100,'-'))\n",
    "        print(\"Product Name              : \",product_details[1])\n",
    "        print(\"Product Price             : \",product_details[2])\n",
    "        print(\"Product Quantity          : \",product_details[3])       \n",
    "        print(\"Product Quantity Demanded : \",ui_p_qty)       \n",
    "\n",
    "        if (int(ui_p_qty) <= int(product_details[3])):\n",
    "            #finding the cost\n",
    "            cost=int(ui_p_qty) * int(product_details[2])\n",
    "\n",
    "            #Writing in the sales file\n",
    "            sale=open('02_sales.csv','a')\n",
    "            # Username,Email Id,Phone Number,Product Id,Product Name,Product Quantity,Bill Amount,Time\n",
    "            info='\\n'+ ui_name + ','+ ui_email+',' + ui_phone +',' + product_details[0] +','+ product_details[1] +','+ui_p_qty+ str(cost) +','+time.ctime()\n",
    "            sale.write(info)\n",
    "            sale.close()\n",
    "\n",
    "            updated_qty=str(int(product_details[3])-int(ui_p_qty))\n",
    "            print(\"Bill: \",cost)\n",
    "            print(\"Thank You! to Visit My Inventory\")\n",
    "            print(\"Visit Again!\")\n",
    "\n",
    "        else:\n",
    "            choice=input(f\"Your Demand is more than the quantity of product\\nWould you like to buy {product_details[3]} items\\n(Please Enter 'Y' (Yes)) or 'N' (No): \")\n",
    "            \n",
    "            if(choice == 'Y' and product_details[3]!=0):\n",
    "                ui_p_qty=product_details[3]\n",
    "                cost=int(ui_p_qty) * int(product_details[2])\n",
    "\n",
    "                sale=open('02_sales.csv','a')\n",
    "                info='\\n'+ ui_name + ','+ ui_email+',' + ui_phone +',' + product_details[0] +','+ product_details[1] +','+ui_p_qty+ str(cost) +','+time.ctime()\n",
    "                sale.write(info)\n",
    "                sale.close()\n",
    "\n",
    "                updated_qty=str(int(product_details[3]) - int(ui_p_qty))\n",
    "                print(\"Bill: \",cost)\n",
    "                print(\"Thank You! to Visit My Inventory\")\n",
    "                print(\"Visit Again!\")\n",
    "            else: \n",
    "                print(\"Thank You to Visit My Inventory\")\n",
    "    updated_details=product_details[0]  + ',' + product_details[1] + ',' + product_details[2] + ',' + updated_qty\n",
    "    if(updated_qty==product_details[3]):\n",
    "        updated_product_details.append(product)\n",
    "    else:     \n",
    "        updated_product_details.append(updated_details)\n",
    "\n",
    "#Updating the inventory file\n",
    "det=open('02_inventory.txt','w')\n",
    "for details in updated_product_details:\n",
    "    if(updated_product_details.index(details)!=len(updated_product_details)-1):\n",
    "        det.write(details + '\\n')\n",
    "    else:\n",
    "        det.write(details)\n",
    "\n",
    "\n",
    "det.close()"
   ]
  },
  {
   "cell_type": "code",
   "execution_count": 11,
   "metadata": {},
   "outputs": [
    {
     "name": "stdout",
     "output_type": "stream",
     "text": [
      "1\n",
      "2\n",
      "3\n",
      "4\n"
     ]
    }
   ],
   "source": [
    "fd=open('02_inventory.txt','r')\n",
    "for i in fd:\n",
    "    print(i[0])"
   ]
  },
  {
   "cell_type": "markdown",
   "metadata": {},
   "source": [
    "is used to convert dict in json string\n",
    "```python\n",
    "    js = json.dumps(record)\n",
    "```\n",
    "is used to convert json string to dict\n",
    "```python\n",
    "    record=json.loads(js)\n",
    "```"
   ]
  }
 ],
 "metadata": {
  "kernelspec": {
   "display_name": "Python 3",
   "language": "python",
   "name": "python3"
  },
  "language_info": {
   "codemirror_mode": {
    "name": "ipython",
    "version": 3
   },
   "file_extension": ".py",
   "mimetype": "text/x-python",
   "name": "python",
   "nbconvert_exporter": "python",
   "pygments_lexer": "ipython3",
   "version": "3.12.4"
  }
 },
 "nbformat": 4,
 "nbformat_minor": 2
}
