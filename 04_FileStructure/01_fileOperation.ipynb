{
 "cells": [
  {
   "cell_type": "markdown",
   "metadata": {},
   "source": [
    "# Read a file"
   ]
  },
  {
   "cell_type": "code",
   "execution_count": 62,
   "metadata": {},
   "outputs": [
    {
     "name": "stdout",
     "output_type": "stream",
     "text": [
      "Hello F\n",
      "Hello Friends! This is a file nam\n",
      "['ed 1f_Greet.txt \\n', 'Welcome how to read a file using python\\n', 'Hey BUddy how are you i am fine my friend\\n', '\\n', \"Shiva (/ˈʃɪvə/; Sanskrit: शिव, lit.\\u2009'The Auspicious One', IAST: Śiva [ɕɪʋɐ]), also known as Mahadeva (/məˈhɑː ˈdeɪvə/; Sanskrit: महादेव:, lit.\\u2009'The Great God', IAST: Mahādevaḥ, [mɐɦaːd̪eːʋɐh)[10][11][12] or Hara,[13] is one of the principal deities of Hinduism.[14] He is the Supreme Being in Shaivism, one of the major traditions within Hinduism.[15]\\n\", '\\n', 'Shiva is known as The Destroyer within the Trimurti, the Hindu trinity which also includes Brahma and Vishnu.[3][16] In the Shaivite tradition, Shiva is the Supreme Lord who creates, protects and transforms the universe.[10][11][12] In the goddess-oriented Shakta tradition, the Supreme Goddess (Devi) is regarded as the energy and creative power (Shakti) and the equal complementary partner of Shiva.[17][18] Shiva is one of the five equivalent deities in Panchayatana puja of the Smarta tradition of Hinduism.[19]\\n', '\\n', 'Shiva has many aspects, benevolent as well as fearsome. In benevolent aspects, he is depicted as an omniscient Yogi who lives an ascetic life on Mount Kailash[3] as well as a householder with his wife Parvati and his two children, Ganesha and Kartikeya. In his fierce aspects, he is often depicted slaying demons. Shiva is also known as Adiyogi (the first Yogi), regarded as the patron god of yoga, meditation and the arts.[20] The iconographical attributes of Shiva are the serpent king Vasuki around his neck, the adorning crescent moon, the holy river Ganga flowing from his matted hair, the third eye on his forehead (the eye that turns everything in front of it into ashes when opened), the trishula or trident as his weapon, and the damaru. He is usually worshipped in the aniconic form of lingam.[4]\\n', '\\n', 'Shiva has pre-Vedic roots,[21] and the figure of Shiva evolved as an amalgamation of various older non-Vedic and Vedic deities, including the Rigvedic storm god Rudra who may also have non-Vedic origins,[22] into a single major deity.[23] Shiva is a pan-Hindu deity, revered widely by Hindus in India, Nepal, Bangladesh, Sri Lanka and Indonesia (especially in Java and Bali)\\n', \"Shiva (/ˈʃɪvə/; Sanskrit: शिव, lit.\\u2009'The Auspicious One', IAST: Śiva [ɕɪʋɐ]), also known as Mahadeva (/məˈhɑː ˈdeɪvə/; Sanskrit: महादेव:, lit.\\u2009'The Great God', IAST: Mahādevaḥ, [mɐɦaːd̪eːʋɐh)[10][11][12] or Hara,[13] is one of the principal deities of Hinduism.[14] He is the Supreme Being in Shaivism, one of the major traditions within Hinduism.[15]\\n\", '\\n', 'Shiva is known as The Destroyer within the Trimurti, the Hindu trinity which also includes Brahma and Vishnu.[3][16] In the Shaivite tradition, Shiva is the Supreme Lord who creates, protects and transforms the universe.[10][11][12] In the goddess-oriented Shakta tradition, the Supreme Goddess (Devi) is regarded as the energy and creative power (Shakti) and the equal complementary partner of Shiva.[17][18] Shiva is one of the five equivalent deities in Panchayatana puja of the Smarta tradition of Hinduism.[19]\\n', '\\n', 'Shiva has many aspects, benevolent as well as fearsome. In benevolent aspects, he is depicted as an omniscient Yogi who lives an ascetic life on Mount Kailash[3] as well as a householder with his wife Parvati and his two children, Ganesha and Kartikeya. In his fierce aspects, he is often depicted slaying demons. Shiva is also known as Adiyogi (the first Yogi), regarded as the patron god of yoga, meditation and the arts.[20] The iconographical attributes of Shiva are the serpent king Vasuki around his neck, the adorning crescent moon, the holy river Ganga flowing from his matted hair, the third eye on his forehead (the eye that turns everything in front of it into ashes when opened), the trishula or trident as his weapon, and the damaru. He is usually worshipped in the aniconic form of lingam.[4]\\n', '\\n', 'Shiva has pre-Vedic roots,[21] and the figure of Shiva evolved as an amalgamation of various older non-Vedic and Vedic deities, including the Rigvedic storm god Rudra who may also have non-Vedic origins,[22] into a single major deity.[23] Shiva is a pan-Hindu deity, revered widely by Hindus in India, Nepal, Bangladesh, Sri Lanka and Indonesia (especially in Java and Bali).[24]\\n', '\\n', 'Part of a series on\\n', 'Shaivism\\n', '\\n', 'Deities\\n', 'Scriptures and texts\\n', 'Philosophy\\n', 'Practices\\n', 'Schools\\n', 'Scholars\\n', 'Related\\n', ' Hinduism portal\\n', 'vte\\n', 'Etymology and other names\\n', 'Main article: Shiva Sahasranama\\n', 'According to the Monier-Williams Sanskrit dictionary, the word \"śiva\" (Devanagari: शिव, also transliterated as shiva) means \"auspicious, propitious, gracious, benign, kind, benevolent, friendly\".[25] The root words of śiva in folk etymology are śī which means \"in whom all things lie, pervasiveness\" and va which means \"embodiment of grace\".[25][26]\\n', '\\n', 'The word Shiva is used as an adjective in the Rig Veda (c.\\u20091700–1100 BCE), as an epithet for several Rigvedic deities, including Rudra.[27] The term Shiva also connotes \"liberation, final emancipation\" and \"the auspicious one\"; this adjectival usage is addressed to many deities in Vedic literature.[25][28] The term evolved from the Vedic Rudra-Shiva to the noun Shiva in the Epics and the Puranas, as an auspicious deity who is the \"creator, reproducer and dissolver\".[25][29]\\n', '\\n', 'Sharma presents another etymology with the Sanskrit root śarv-, which means \"to injure\" or \"to kill\",[30] interpreting the name to connote \"one who can kill the forces of darkness\".[31]\\n', '\\n', 'The Sanskrit word śaiva means \"relating to the god Shiva\", and this term is the Sanskrit name both for one of the principal sects of Hinduism and for a member of that sect.[32] It is used as an adjective to characterize certain beliefs and practices, such as Shaivism.[33]']\n"
     ]
    }
   ],
   "source": [
    "fr=open('1f_Greet.txt','r')\n",
    "print(fr.read(7))\n",
    "txt=fr.read()\n",
    "fr.seek(0)\n",
    "print(fr.readline(33))\n",
    "print(fr.readlines())\n",
    "fr.close()"
   ]
  },
  {
   "cell_type": "markdown",
   "metadata": {},
   "source": [
    "## Text Processing in File"
   ]
  },
  {
   "cell_type": "code",
   "execution_count": 63,
   "metadata": {},
   "outputs": [
    {
     "name": "stdout",
     "output_type": "stream",
     "text": [
      "Lines:  42\n",
      "Words:  868\n",
      "Paragraph 13\n",
      "[33]\n"
     ]
    }
   ],
   "source": [
    "para=txt.split('\\n\\n')\n",
    "lines=txt.split('.')\n",
    "words=txt.split(' ')\n",
    "\n",
    "print(\"Lines: \",len(lines))\n",
    "print(\"Words: \",len(words))\n",
    "print(\"Paragraph\",len(para))\n",
    "print(lines[-1])"
   ]
  },
  {
   "cell_type": "markdown",
   "metadata": {},
   "source": [
    "## Advanced Text Processing"
   ]
  },
  {
   "cell_type": "code",
   "execution_count": 64,
   "metadata": {},
   "outputs": [
    {
     "name": "stdout",
     "output_type": "stream",
     "text": [
      "Hello Friends! This is a file named 1f_Greet.txt \n",
      "Welcome how to read a file using python\n",
      "Hey BUddy how are you i am fine my friend\n",
      "\n",
      "Shiva (/ˈʃɪvə/; Sanskrit: शिव, lit. 'The Auspicious One', IAST: Śiva [ɕɪʋɐ]), also known as Mahadeva (/məˈhɑː ˈdeɪvə/; Sanskrit: महादेव:, lit. 'The Great God', IAST: Mahādevaḥ, [mɐɦaːd̪eːʋɐh) or Hara, is one of the principal deities of Hinduism. He is the Supreme Being in Shaivism, one of the major traditions within Hinduism.\n",
      "\n",
      "Shiva is known as The Destroyer within the Trimurti, the Hindu trinity which also includes Brahma and Vishnu.[3] In the Shaivite tradition, Shiva is the Supreme Lord who creates, protects and transforms the universe. In the goddess-oriented Shakta tradition, the Supreme Goddess (Devi) is regarded as the energy and creative power (Shakti) and the equal complementary partner of Shiva. Shiva is one of the five equivalent deities in Panchayatana puja of the Smarta tradition of Hinduism.\n",
      "\n",
      "Shiva has many aspects, benevolent as well as fearsome. In benevolent aspects, he is depicted as an omniscient Yogi who lives an ascetic life on Mount Kailash[3] as well as a householder with his wife Parvati and his two children, Ganesha and Kartikeya. In his fierce aspects, he is often depicted slaying demons. Shiva is also known as Adiyogi (the first Yogi), regarded as the patron god of yoga, meditation and the arts. The iconographical attributes of Shiva are the serpent king Vasuki around his neck, the adorning crescent moon, the holy river Ganga flowing from his matted hair, the third eye on his forehead (the eye that turns everything in front of it into ashes when opened), the trishula or trident as his weapon, and the damaru. He is usually worshipped in the aniconic form of lingam.[4]\n",
      "\n",
      "Shiva has pre-Vedic roots, and the figure of Shiva evolved as an amalgamation of various older non-Vedic and Vedic deities, including the Rigvedic storm god Rudra who may also have non-Vedic origins, into a single major deity. Shiva is a pan-Hindu deity, revered widely by Hindus in India, Nepal, Bangladesh, Sri Lanka and Indonesia (especially in Java and Bali)\n",
      "Shiva (/ˈʃɪvə/; Sanskrit: शिव, lit. 'The Auspicious One', IAST: Śiva [ɕɪʋɐ]), also known as Mahadeva (/məˈhɑː ˈdeɪvə/; Sanskrit: महादेव:, lit. 'The Great God', IAST: Mahādevaḥ, [mɐɦaːd̪eːʋɐh) or Hara, is one of the principal deities of Hinduism. He is the Supreme Being in Shaivism, one of the major traditions within Hinduism.\n",
      "\n",
      "Shiva is known as The Destroyer within the Trimurti, the Hindu trinity which also includes Brahma and Vishnu.[3] In the Shaivite tradition, Shiva is the Supreme Lord who creates, protects and transforms the universe. In the goddess-oriented Shakta tradition, the Supreme Goddess (Devi) is regarded as the energy and creative power (Shakti) and the equal complementary partner of Shiva. Shiva is one of the five equivalent deities in Panchayatana puja of the Smarta tradition of Hinduism.\n",
      "\n",
      "Shiva has many aspects, benevolent as well as fearsome. In benevolent aspects, he is depicted as an omniscient Yogi who lives an ascetic life on Mount Kailash[3] as well as a householder with his wife Parvati and his two children, Ganesha and Kartikeya. In his fierce aspects, he is often depicted slaying demons. Shiva is also known as Adiyogi (the first Yogi), regarded as the patron god of yoga, meditation and the arts. The iconographical attributes of Shiva are the serpent king Vasuki around his neck, the adorning crescent moon, the holy river Ganga flowing from his matted hair, the third eye on his forehead (the eye that turns everything in front of it into ashes when opened), the trishula or trident as his weapon, and the damaru. He is usually worshipped in the aniconic form of lingam.[4]\n",
      "\n",
      "Shiva has pre-Vedic roots, and the figure of Shiva evolved as an amalgamation of various older non-Vedic and Vedic deities, including the Rigvedic storm god Rudra who may also have non-Vedic origins, into a single major deity. Shiva is a pan-Hindu deity, revered widely by Hindus in India, Nepal, Bangladesh, Sri Lanka and Indonesia (especially in Java and Bali).\n",
      "\n",
      "Part of a series on\n",
      "Shaivism\n",
      "\n",
      "Deities\n",
      "Scriptures and texts\n",
      "Philosophy\n",
      "Practices\n",
      "Schools\n",
      "Scholars\n",
      "Related\n",
      " Hinduism portal\n",
      "vte\n",
      "Etymology and other names\n",
      "Main article: Shiva Sahasranama\n",
      "According to the Monier-Williams Sanskrit dictionary, the word \"śiva\" (Devanagari: शिव, also transliterated as shiva) means \"auspicious, propitious, gracious, benign, kind, benevolent, friendly\". The root words of śiva in folk etymology are śī which means \"in whom all things lie, pervasiveness\" and va which means \"embodiment of grace\".\n",
      "\n",
      "The word Shiva is used as an adjective in the Rig Veda (c. 1700–1100 BCE), as an epithet for several Rigvedic deities, including Rudra. The term Shiva also connotes \"liberation, final emancipation\" and \"the auspicious one\"; this adjectival usage is addressed to many deities in Vedic literature. The term evolved from the Vedic Rudra-Shiva to the noun Shiva in the Epics and the Puranas, as an auspicious deity who is the \"creator, reproducer and dissolver\".\n",
      "\n",
      "Sharma presents another etymology with the Sanskrit root śarv-, which means \"to injure\" or \"to kill\", interpreting the name to connote \"one who can kill the forces of darkness\".\n",
      "\n",
      "The Sanskrit word śaiva means \"relating to the god Shiva\", and this term is the Sanskrit name both for one of the principal sects of Hinduism and for a member of that sect. It is used as an adjective to characterize certain beliefs and practices, such as Shaivism.\n"
     ]
    }
   ],
   "source": [
    "for i in range(10,34):\n",
    "    pattern='['+str(i)+']'\n",
    "    txt=txt.replace(pattern,'') # type: ignore\n",
    "\n",
    "print(txt)    "
   ]
  },
  {
   "cell_type": "markdown",
   "metadata": {},
   "source": [
    "#### Creating and Writing in file"
   ]
  },
  {
   "cell_type": "code",
   "execution_count": 65,
   "metadata": {},
   "outputs": [],
   "source": [
    "fd=open(\"02_created.txt\",'w')\n",
    "fd.write(\"This is Sachin\")\n",
    "fd.write(\"This is Ram\")\n",
    "fd.close()"
   ]
  },
  {
   "cell_type": "markdown",
   "metadata": {},
   "source": [
    "#### Appending File"
   ]
  },
  {
   "cell_type": "code",
   "execution_count": 66,
   "metadata": {},
   "outputs": [],
   "source": [
    "fd=open('02_created.txt','a')\n",
    "fd.write(\"This is gun\")\n",
    "fd.write(\"This is shivani\")\n",
    "# seek(n) takes the file handle to the nth\n",
    "# bite from the beginning.\n",
    "fd.seek(0) \n",
    "fd.close()"
   ]
  },
  {
   "cell_type": "markdown",
   "metadata": {},
   "source": [
    "#### Adding next line and more to the file"
   ]
  },
  {
   "cell_type": "code",
   "execution_count": 67,
   "metadata": {},
   "outputs": [],
   "source": [
    "fd=open('02_created.txt','a')\n",
    "\n",
    "txt=input(\"Enter a Text: \")\n",
    "txt=txt + '.\\n'\n",
    "fd.write(txt)\n",
    "fd.close()"
   ]
  }
 ],
 "metadata": {
  "kernelspec": {
   "display_name": "Python 3",
   "language": "python",
   "name": "python3"
  },
  "language_info": {
   "codemirror_mode": {
    "name": "ipython",
    "version": 3
   },
   "file_extension": ".py",
   "mimetype": "text/x-python",
   "name": "python",
   "nbconvert_exporter": "python",
   "pygments_lexer": "ipython3",
   "version": "3.12.4"
  }
 },
 "nbformat": 4,
 "nbformat_minor": 2
}
